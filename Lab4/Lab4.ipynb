{
 "cells": [
  {
   "cell_type": "markdown",
   "id": "1f6ea8c7-8658-40a6-b1f1-43aebb4dfed4",
   "metadata": {},
   "source": [
    "# Lab 4 - Working with 'real' data"
   ]
  },
  {
   "cell_type": "markdown",
   "id": "560209fb-157f-47dc-b26d-d21f46f9eebb",
   "metadata": {},
   "source": [
    "##### PHYS434 - Advanced Laboratory: Computational Data Analysis\n",
    "##### Professor: Miguel Morales\n",
    "<br>"
   ]
  },
  {
   "cell_type": "markdown",
   "id": "e19fec41-31fa-43d3-a5a0-ba26ef0a2aa9",
   "metadata": {},
   "source": [
    "##### Due date: 11/1/2021\n",
    "##### By Erik Solhaug\n",
    "<br>"
   ]
  },
  {
   "cell_type": "markdown",
   "id": "0c43b555-dad4-41ff-898b-f3fc936b539e",
   "metadata": {},
   "source": [
    "## Introduction"
   ]
  },
  {
   "cell_type": "markdown",
   "id": "4374bfb3-2ab5-4bb7-a7e2-4c07ecdb51c1",
   "metadata": {},
   "source": [
    "In this lab we are going to work on how to estimate the background from 'real' data. Real is in air quotes because the data is actually from simplified simulations to make the problems manageable in a single lab. But the data will have some features that resemble that of real data sets."
   ]
  },
  {
   "cell_type": "markdown",
   "id": "c4791e02-3d73-499d-b8ff-31c0865418e3",
   "metadata": {},
   "source": [
    "## Getting Data and HD5"
   ]
  },
  {
   "cell_type": "markdown",
   "id": "cf208d6c-aed9-4816-9c6d-357226daefec",
   "metadata": {},
   "source": [
    "In general exchanging raw data is a pain. Writing data in text files is error prone, inaccurate, and wastes space, but raw binary files have all sorts of subtleties too (including the internal byte order of your processor). To try and sidestep a whole set of nasty issues, we are going to use HDF5 (originally developed by the National Center for Supercomputing Applications for data exchange) to allow everyone to import the data."
   ]
  },
  {
   "cell_type": "markdown",
   "id": "21dee1e3-88d5-44dd-98cf-5e21b66a9b17",
   "metadata": {},
   "source": [
    "**If you are working on your own machine, in either Matlab or python, follow the links in the assignment to download the files put them in your working directory.**"
   ]
  },
  {
   "cell_type": "markdown",
   "id": "40f3eac8-6e5f-4733-8233-92af4745ffb1",
   "metadata": {},
   "source": [
    "## Python"
   ]
  },
  {
   "cell_type": "markdown",
   "id": "67a951a2-8aa1-421f-ac73-48003d6a43dc",
   "metadata": {},
   "source": [
    "If you are using python on your own machine, you will need to install the h5py library. Go to your Anaconda environment (if you followed the suggestions in the first lab) and search for the h5py library. Install that library into your environment, then restart your jupyter Lab or notebook session."
   ]
  },
  {
   "cell_type": "markdown",
   "id": "50910424-df53-4b4b-943c-f0fe10f1bab5",
   "metadata": {},
   "source": [
    "If you are working in the cloud python the necessary library is already installed, but you need to follow a magic incantation to download the file from the course website to your cloud instance. From the website find and copy the link address to the data file (often this means right or option-clicking on the link). Then open the terminal in your cloud instance, navigate to your working directory, and use the following command structure"
   ]
  },
  {
   "cell_type": "raw",
   "id": "39fb8a6b-9034-4572-a8bb-831702dfee2f",
   "metadata": {},
   "source": [
    "wget -O <output_file_name> <link>"
   ]
  },
  {
   "cell_type": "markdown",
   "id": "08ddefc2-e0a3-43f4-a83e-e902aa4a5da4",
   "metadata": {},
   "source": [
    "So my command (your link might be different) for the first file is"
   ]
  },
  {
   "cell_type": "raw",
   "id": "4c7b0f8a-29e0-4b3d-9eeb-2e0efee413c9",
   "metadata": {},
   "source": [
    "wget -O gammaray_lab4.h5 https://canvas.uw.edu/courses/1401649/files/67789336/download?wrap=1"
   ]
  },
  {
   "cell_type": "markdown",
   "id": "0e67be4e-ee0b-4644-abbf-cb80a011030a",
   "metadata": {},
   "source": [
    "Which I can see with ls -lh has downloaded a 792 MB file to my directory named gammaray_lab4.h5\n",
    "\n",
    "Now start your lab with an import block that looks like:"
   ]
  },
  {
   "cell_type": "code",
   "execution_count": 2,
   "id": "82c1102c-8f39-42d8-87e3-b48d80dff1fb",
   "metadata": {},
   "outputs": [],
   "source": [
    "%matplotlib inline\n",
    "import numpy as np\n",
    "import matplotlib\n",
    "import matplotlib.pyplot as plt\n",
    "import scipy\n",
    "from scipy import stats\n",
    "import h5py\n",
    "\n",
    "#this sets the size of the plot to something useful\n",
    "plt.rcParams[\"figure.figsize\"] = (20,15)"
   ]
  },
  {
   "cell_type": "markdown",
   "id": "d5fd562d-97ca-4422-9f65-c6321439ae17",
   "metadata": {},
   "source": [
    "Now import the file for problem 1 using"
   ]
  },
  {
   "cell_type": "raw",
   "id": "f6884792-a00a-4c9b-85b4-307f02786f0d",
   "metadata": {},
   "source": [
    "hf = h5py.File('gammaray_lab4.h5', 'r')"
   ]
  },
  {
   "cell_type": "markdown",
   "id": "69916188-6961-41b3-9c57-6c589d205729",
   "metadata": {},
   "source": [
    "Within hdf5 files you can store different kinds of data sets. Ours is simple and has one called 'data'. You can look at the header and see this using"
   ]
  },
  {
   "cell_type": "raw",
   "id": "9d670a59-72e6-459e-a2bd-7e90ba2ada3f",
   "metadata": {},
   "source": [
    "hf.keys()"
   ]
  },
  {
   "cell_type": "markdown",
   "id": "0fea4aa8-8790-4e90-b895-87905e50287d",
   "metadata": {},
   "source": [
    "You can then import the data into an array variable using the get method"
   ]
  },
  {
   "cell_type": "raw",
   "id": "7719b97b-8279-4acf-8445-29c2469144f5",
   "metadata": {},
   "source": [
    "data = np.array(hf.get('data'))"
   ]
  },
  {
   "cell_type": "markdown",
   "id": "262af78d-ee52-4a7a-ada1-1a963e169780",
   "metadata": {},
   "source": [
    "Check that your data is as expected, with a time (in gps seconds), Solar phase (deg), Earth longitude (deg), and gamma-ray counts, and more than 25 million data records. Printing the first row you should get:"
   ]
  },
  {
   "cell_type": "raw",
   "id": "ec2533e9-2162-41db-92b9-3c43bb0028ad",
   "metadata": {},
   "source": [
    "data[:,0]"
   ]
  },
  {
   "cell_type": "markdown",
   "id": "09cb8a46-6eca-4e24-8d38-254c3486a44b",
   "metadata": {},
   "source": [
    "You can then close your file"
   ]
  },
  {
   "cell_type": "raw",
   "id": "d9ef5b86-0720-47ae-8384-8dcd3b6af6a0",
   "metadata": {},
   "source": [
    "hf.close()"
   ]
  },
  {
   "cell_type": "markdown",
   "id": "a041e042-d99a-4b2e-b444-b20f8352b026",
   "metadata": {},
   "source": [
    "## Problem 1"
   ]
  },
  {
   "cell_type": "markdown",
   "id": "9fecf9c4-e1aa-4b03-818d-2fd8eef0170b",
   "metadata": {},
   "source": [
    "In this problem we are looking at the data from a gamma-ray satellite orbiting in low Earth orbit. It takes a reading of the number of particles detected every 100 milliseconds, and is in an approximately 90 minute orbit. While it is looking for gamma-ray bursts, virtually all of the particles detected are background cosmic rays.\n",
    "\n",
    "As with most data, there are 'features.' Your lab instructor has helpfully incorporated the meta-data into your data file."
   ]
  },
  {
   "cell_type": "markdown",
   "id": "d3e0ea5d-0993-4e84-aed0-23740946fa78",
   "metadata": {},
   "source": [
    "### 1)"
   ]
  },
  {
   "cell_type": "markdown",
   "id": "16e0c9fe-d50d-4484-9b37-db12e90e1c2e",
   "metadata": {},
   "source": [
    "Down load the data from the course website (gammaray_lab4.h5), and import it into your working environment. The data has 4 columns and more than 25 million rows. The columns are time (in gps seconds), Solar phase (deg) showing the position of the sun relative to the orbit, Earth longitude (deg) giving the position of the spacecraft relative to the ground, and particle counts. Make a few plots, generally exploring your data and making sure you understand it. Give a high level description of the data features you see. Specifically comment on whether you see signal contamination in your data, and how you plan to build a background pdf().\n"
   ]
  },
  {
   "cell_type": "markdown",
   "id": "72030927-472d-4111-9bf2-8bc1c4e36a3b",
   "metadata": {},
   "source": [
    "## 2)"
   ]
  },
  {
   "cell_type": "markdown",
   "id": "a3c8c521-4901-4b19-a049-7b3d6e81bc50",
   "metadata": {},
   "source": [
    "The background is not consistent across the dataset. Find and describe as accurately as you can how the background changes.\n"
   ]
  },
  {
   "cell_type": "markdown",
   "id": "ecedfa84-0a6f-48de-96dc-06617d92109d",
   "metadata": {},
   "source": [
    "## 3)"
   ]
  },
  {
   "cell_type": "markdown",
   "id": "de4e5884-9788-4419-8f5f-7adffecdceb1",
   "metadata": {},
   "source": [
    "Create a model for the background that includes time dependence, and explicitly compare your model to the data. How good is your model of the background?\n"
   ]
  },
  {
   "cell_type": "markdown",
   "id": "1e245725-cfd8-42ec-b9f3-9abe55ebf670",
   "metadata": {},
   "source": [
    "## 4)"
   ]
  },
  {
   "cell_type": "markdown",
   "id": "f45d2501-29ad-4189-91e8-5774c31e0709",
   "metadata": {},
   "source": [
    "Because the background varies, your discovery sensitivity threshold (how many particles you would need to see) also varies. What is the '5-sigma' threshold for a 100 millisecond GRB at different times?\n",
    "\n",
    "Optional: while this is simulated data, it is based on a real effect seen by low Earth orbit satellites. Can you identify the cause of the variable background and propose a physical model?"
   ]
  },
  {
   "cell_type": "markdown",
   "id": "6ec2c1ce-40b1-4b88-b685-6ae7e96f8a99",
   "metadata": {},
   "source": [
    "## Problem 2"
   ]
  },
  {
   "cell_type": "markdown",
   "id": "b39f618a-a860-4630-a705-57ceee89d2bd",
   "metadata": {},
   "source": [
    "In this problem we are going to look at a stack of telescope images (again simulated). We have 10 images, but you and your lab partner will be looking for different signals. One of you will be looking for the faintest stars, while the other will be looking for a transient (something like a super novae that only appears in one image). Flip a coin to determine which of you is pursuing which question.\n"
   ]
  },
  {
   "cell_type": "markdown",
   "id": "2847b938-69fe-413b-bf48-40f62889216d",
   "metadata": {},
   "source": [
    "## 1)"
   ]
  },
  {
   "cell_type": "markdown",
   "id": "2cdd5247-4dcb-4765-924d-a4cc00e8241a",
   "metadata": {},
   "source": [
    "Dowload the data from images.h5. This is a stack of 10 square images, each 200 pixels on a side.\n"
   ]
  },
  {
   "cell_type": "markdown",
   "id": "145658a4-1a40-4d39-8c4a-b157fd250598",
   "metadata": {},
   "source": [
    "## 2)"
   ]
  },
  {
   "cell_type": "markdown",
   "id": "7e0eda70-3ce3-4c39-bccf-da787c92a7bf",
   "metadata": {},
   "source": [
    "Explore the data. Is there signal contamination? Is the background time dependent? Is it consistent spatially? Develop a plan to calculate your background pdf()."
   ]
  },
  {
   "cell_type": "markdown",
   "id": "54f66a23-624a-4b22-bbdb-945cafd18f2e",
   "metadata": {},
   "source": [
    "## 3)"
   ]
  },
  {
   "cell_type": "markdown",
   "id": "4935ae6b-315b-4b63-b692-e22201b204b0",
   "metadata": {},
   "source": [
    "Using your background distribution, hunt for your signal (either faint stars, or a transient). Describe what you find.\n"
   ]
  },
  {
   "cell_type": "markdown",
   "id": "dc05b919-c486-45b6-87b6-4cf7fc14f722",
   "metadata": {},
   "source": [
    "## 4)"
   ]
  },
  {
   "cell_type": "markdown",
   "id": "635f1b40-d8bc-488f-85cb-77bcbf97fee7",
   "metadata": {},
   "source": [
    "You and your lab partner had different pdf(), but were using the same data. Explore why this is.\n"
   ]
  }
 ],
 "metadata": {
  "kernelspec": {
   "display_name": "Python 3",
   "language": "python",
   "name": "python3"
  },
  "language_info": {
   "codemirror_mode": {
    "name": "ipython",
    "version": 3
   },
   "file_extension": ".py",
   "mimetype": "text/x-python",
   "name": "python",
   "nbconvert_exporter": "python",
   "pygments_lexer": "ipython3",
   "version": "3.8.8"
  }
 },
 "nbformat": 4,
 "nbformat_minor": 5
}
