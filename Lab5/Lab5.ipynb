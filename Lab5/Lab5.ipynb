{
 "cells": [
  {
   "cell_type": "markdown",
   "id": "1f6ea8c7-8658-40a6-b1f1-43aebb4dfed4",
   "metadata": {},
   "source": [
    "# Lab 5 - Real data sets: LHC"
   ]
  },
  {
   "cell_type": "markdown",
   "id": "560209fb-157f-47dc-b26d-d21f46f9eebb",
   "metadata": {},
   "source": [
    "##### PHYS434 - Advanced Laboratory: Computational Data Analysis\n",
    "##### Professor: Miguel Morales\n",
    "<br>"
   ]
  },
  {
   "cell_type": "markdown",
   "id": "e19fec41-31fa-43d3-a5a0-ba26ef0a2aa9",
   "metadata": {},
   "source": [
    "##### Due date: 11/15/2021\n",
    "##### By Erik Solhaug\n",
    "<br>"
   ]
  },
  {
   "cell_type": "markdown",
   "id": "0c43b555-dad4-41ff-898b-f3fc936b539e",
   "metadata": {},
   "source": [
    "## Instructions"
   ]
  },
  {
   "cell_type": "markdown",
   "id": "4374bfb3-2ab5-4bb7-a7e2-4c07ecdb51c1",
   "metadata": {},
   "source": [
    "1. Getting started (don't turn in, but think)\n",
    "\n",
    "   1. Pick and download your data\n",
    "   2. Get familiar with your data, making sure you understand the axes, etc.\n",
    "   3. Following the links in the data instructions, read about your instrument and how the data was taken\n",
    "   4. Explore your data. Mostly make sure you understand what all of the labels mean, and make a few representative plots.\n",
    "\n",
    "\n",
    "2. For your lab report, create an initial writeup of your data and what you found. Think of this as a book report, where you describe how the data was taken, what the labels mean, and how to interpret the first plots you've made. This will need to be several pages long. "
   ]
  },
  {
   "cell_type": "code",
   "execution_count": null,
   "id": "4075021d-bac6-4009-bc6d-1b36c10f84d4",
   "metadata": {},
   "outputs": [],
   "source": []
  }
 ],
 "metadata": {
  "kernelspec": {
   "display_name": "Python 3",
   "language": "python",
   "name": "python3"
  },
  "language_info": {
   "codemirror_mode": {
    "name": "ipython",
    "version": 3
   },
   "file_extension": ".py",
   "mimetype": "text/x-python",
   "name": "python",
   "nbconvert_exporter": "python",
   "pygments_lexer": "ipython3",
   "version": "3.8.8"
  }
 },
 "nbformat": 4,
 "nbformat_minor": 5
}
