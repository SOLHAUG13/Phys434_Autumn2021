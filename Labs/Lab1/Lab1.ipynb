{
 "cells": [
  {
   "cell_type": "markdown",
   "id": "fc4d6758-a16e-489f-b2be-fbdd338b407a",
   "metadata": {},
   "source": [
    "# Lab 1 - Statistical Distributions"
   ]
  },
  {
   "cell_type": "markdown",
   "id": "d00222df-6e6d-4e07-bec2-0a17b35d2b86",
   "metadata": {},
   "source": [
    "This lab will focus on statistical distributions including both continuous and non-continuous distributions. We will also cover the use and conversion of probabilities to 'sigma'."
   ]
  },
  {
   "cell_type": "code",
   "execution_count": 1,
   "id": "7d890d96-1bfa-4ec1-b388-743a1886526a",
   "metadata": {},
   "outputs": [],
   "source": [
    "# Importing needed libraries\n",
    "import numpy as np\n",
    "import matplotlib\n",
    "import matplotlib.pyplot as plt\n",
    "import scipy\n",
    "from scipy import stats\n",
    "\n",
    "#this sets the size of the plot to something useful\n",
    "plt.rcParams[\"figure.figsize\"] = (15,10)"
   ]
  },
  {
   "cell_type": "markdown",
   "id": "8f1de87b-6098-4451-a295-586c0cead0dc",
   "metadata": {},
   "source": [
    "## A Little Statistics"
   ]
  },
  {
   "cell_type": "markdown",
   "id": "84b05961-91d6-471d-94a9-85eea8c13162",
   "metadata": {},
   "source": [
    "## 1."
   ]
  },
  {
   "cell_type": "markdown",
   "id": "161c1a41-4a85-4569-a81e-082e4e699c08",
   "metadata": {},
   "source": [
    "**Converting a probability into a 'sigma'. As discussed in class, 'sigma' refers to a probability in physics. Our first task is to figure out how, given a probability, to calculate the assoicated 'sigma' value. The sigma implicitly refers to the standard normal distribution (a Gaussian with mean zero and standard deviation of 1). As we discussed in class, integrals of the standard normal distribution give probabilities.**"
   ]
  },
  {
   "cell_type": "markdown",
   "id": "6f8493f6-a338-4113-bcd1-a51b377d327e",
   "metadata": {},
   "source": [
    "## A)"
   ]
  },
  {
   "cell_type": "markdown",
   "id": "635b8c6c-999b-4694-9f94-7ebbfc4299ec",
   "metadata": {},
   "source": [
    "**Look up the Normal distribution and read about it. A few potential starting points: Math is fun, Wolfram, and a useful z table**"
   ]
  },
  {
   "cell_type": "markdown",
   "id": "e41a8c8d-a2e0-410f-80eb-ca011d482119",
   "metadata": {},
   "source": [
    "We have read about the normal distribution about a point and corresponding z table values."
   ]
  },
  {
   "cell_type": "markdown",
   "id": "113c65f3-1ff6-4474-bfce-cb78dae750ca",
   "metadata": {},
   "source": [
    "## B)"
   ]
  },
  {
   "cell_type": "markdown",
   "id": "ba294593-bcda-4764-9be9-6cb58d130c5f",
   "metadata": {},
   "source": [
    "**As in class, try integrating the standard normal distribution. This can be done either with the erfc(), or calls to specific statistical cumulative probability distributions such as stats.norm.cdf() in scipy. Try several values of sigma, and make sure you are getting values that match the z-table.**"
   ]
  },
  {
   "cell_type": "markdown",
   "id": "118d4118-6e25-4590-8125-3132b4753b2c",
   "metadata": {},
   "source": [
    "We now move on to checking that we can easily calculate the integral under the distribution by using the error function, which in this case is called by using stats.norm.cdf(x) where x is the value of sigma (standard deviations) away from the center of the distribution."
   ]
  },
  {
   "cell_type": "code",
   "execution_count": 2,
   "id": "f50944cf-f36c-469e-80ad-8325dd46a8bb",
   "metadata": {},
   "outputs": [
    {
     "data": {
      "text/plain": [
       "0.5"
      ]
     },
     "execution_count": 2,
     "metadata": {},
     "output_type": "execute_result"
    }
   ],
   "source": [
    "stats.norm.cdf(0)"
   ]
  },
  {
   "cell_type": "markdown",
   "id": "9005ca2a-35cf-4d4f-8419-dd297bcc7c6d",
   "metadata": {},
   "source": [
    "We check the values with the z scores in the Standard Normal table (https://en.wikipedia.org/wiki/Standard_normal_table):"
   ]
  },
  {
   "cell_type": "markdown",
   "id": "ece4cf10-def1-4875-a0ae-12ef98131cb9",
   "metadata": {},
   "source": [
    "\t0.50000"
   ]
  },
  {
   "cell_type": "code",
   "execution_count": 3,
   "id": "6afaf3b1-ee96-40c1-9256-ebba8cba7360",
   "metadata": {},
   "outputs": [
    {
     "data": {
      "text/plain": [
       "0.539827837277029"
      ]
     },
     "execution_count": 3,
     "metadata": {},
     "output_type": "execute_result"
    }
   ],
   "source": [
    "stats.norm.cdf(0.1)"
   ]
  },
  {
   "cell_type": "markdown",
   "id": "bc371133-462c-4762-aede-4cf5bb460d1e",
   "metadata": {},
   "source": [
    "\t0.53983"
   ]
  },
  {
   "cell_type": "code",
   "execution_count": 4,
   "id": "1c9bf470-23a5-43a4-96a7-6c7a41cc855f",
   "metadata": {},
   "outputs": [
    {
     "data": {
      "text/plain": [
       "0.460172162722971"
      ]
     },
     "execution_count": 4,
     "metadata": {},
     "output_type": "execute_result"
    }
   ],
   "source": [
    "stats.norm.cdf(-0.1)"
   ]
  },
  {
   "cell_type": "markdown",
   "id": "2d954d1e-a5cc-4b2f-90ef-4964f65b6b98",
   "metadata": {},
   "source": [
    "\t0.46017"
   ]
  },
  {
   "cell_type": "code",
   "execution_count": 5,
   "id": "68ed66d7-cf40-46e3-9d6d-b5b98c3bf395",
   "metadata": {},
   "outputs": [
    {
     "data": {
      "text/plain": [
       "0.6914624612740131"
      ]
     },
     "execution_count": 5,
     "metadata": {},
     "output_type": "execute_result"
    }
   ],
   "source": [
    "stats.norm.cdf(0.5)"
   ]
  },
  {
   "cell_type": "markdown",
   "id": "d05e1ca5-f882-4beb-a5ce-ceed451824a3",
   "metadata": {},
   "source": [
    "\t0.69146"
   ]
  },
  {
   "cell_type": "code",
   "execution_count": 6,
   "id": "0a208a6f-0d54-4698-9da7-8251594c60b7",
   "metadata": {},
   "outputs": [
    {
     "data": {
      "text/plain": [
       "0.3085375387259869"
      ]
     },
     "execution_count": 6,
     "metadata": {},
     "output_type": "execute_result"
    }
   ],
   "source": [
    "stats.norm.cdf(-0.5)"
   ]
  },
  {
   "cell_type": "markdown",
   "id": "8388e238-3485-4c97-875d-612e8e6cece6",
   "metadata": {},
   "source": [
    "\t0.30854"
   ]
  },
  {
   "cell_type": "code",
   "execution_count": 28,
   "id": "e32420aa-e3a3-493a-aded-01fafd315ba6",
   "metadata": {},
   "outputs": [
    {
     "data": {
      "text/plain": [
       "0.9772498680518208"
      ]
     },
     "execution_count": 28,
     "metadata": {},
     "output_type": "execute_result"
    }
   ],
   "source": [
    "stats.norm.cdf(2)"
   ]
  },
  {
   "cell_type": "markdown",
   "id": "dabe3e28-c6c1-4396-9db9-b2d0454aefbe",
   "metadata": {},
   "source": [
    "\t0.97725"
   ]
  },
  {
   "cell_type": "code",
   "execution_count": 29,
   "id": "7761f3be-defd-4818-87e1-1f8caf9520e1",
   "metadata": {},
   "outputs": [
    {
     "data": {
      "text/plain": [
       "0.022750131948179195"
      ]
     },
     "execution_count": 29,
     "metadata": {},
     "output_type": "execute_result"
    }
   ],
   "source": [
    "stats.norm.cdf(-2)"
   ]
  },
  {
   "cell_type": "markdown",
   "id": "5efd4de6-757b-4f5e-8b30-1ae4e329c6bd",
   "metadata": {},
   "source": [
    "\t0.02275"
   ]
  },
  {
   "cell_type": "markdown",
   "id": "43187b91-80a7-4096-bdfe-168fbdde45b5",
   "metadata": {},
   "source": [
    "These values all seem to match the z scores from the Standard Normal table."
   ]
  },
  {
   "cell_type": "markdown",
   "id": "fcce512f-b0b1-4c65-8e93-cd2eda238c55",
   "metadata": {},
   "source": [
    "## C)"
   ]
  },
  {
   "cell_type": "markdown",
   "id": "f65400a7-abb3-4997-a84c-3118da4dd0f6",
   "metadata": {},
   "source": [
    "**Now more often than not, we actually want to do the inverse: for a given probability determine the associated 'sigma' value: stats.norm.ppf() in python. Try several probability values where you know what the answer should be (e.g. Probability associated with 1, 2, 5 sigma), and show that you get the right answer in terms of sigma.**"
   ]
  },
  {
   "cell_type": "markdown",
   "id": "ed9be891-f1fd-4e4a-ae9b-78fb6a73c721",
   "metadata": {},
   "source": [
    "Here, we check that the inverse of the integral of the normal distribution.\n",
    "Keep in mind the symmetric sigma along both wings of the distribution."
   ]
  },
  {
   "cell_type": "markdown",
   "id": "3c51d26d-018a-4950-95e0-0046017f6089",
   "metadata": {},
   "source": [
    "5 sigma = 2.87e-7 (for e.g. probability of signal being produced from background noise) - otherwise 5 sigma = 1-(2.87e-7)"
   ]
  },
  {
   "cell_type": "code",
   "execution_count": 9,
   "id": "72d189ce-9719-43c3-bcdd-7604fd0d756f",
   "metadata": {},
   "outputs": [
    {
     "data": {
      "text/plain": [
       "-4.999765776842555"
      ]
     },
     "execution_count": 9,
     "metadata": {},
     "output_type": "execute_result"
    }
   ],
   "source": [
    "stats.norm.ppf(2.87e-7)"
   ]
  },
  {
   "cell_type": "markdown",
   "id": "7cd424e4-6f79-4e9b-a2ec-b1a5b2098cdf",
   "metadata": {},
   "source": [
    "1 sigma = .84"
   ]
  },
  {
   "cell_type": "code",
   "execution_count": 31,
   "id": "6d19262c-5d26-4f26-9bf1-ffa34fde4e1d",
   "metadata": {},
   "outputs": [
    {
     "data": {
      "text/plain": [
       "0.8413447460685429"
      ]
     },
     "execution_count": 31,
     "metadata": {},
     "output_type": "execute_result"
    }
   ],
   "source": [
    "stats.norm.cdf(1)"
   ]
  },
  {
   "cell_type": "code",
   "execution_count": 10,
   "id": "34613421-9451-4da3-b022-7023eaf7b15d",
   "metadata": {},
   "outputs": [
    {
     "data": {
      "text/plain": [
       "-0.994457883209753"
      ]
     },
     "execution_count": 10,
     "metadata": {},
     "output_type": "execute_result"
    }
   ],
   "source": [
    "stats.norm.ppf(.16)"
   ]
  },
  {
   "cell_type": "raw",
   "id": "82e2cf6c-df7d-402e-86e8-486272f1a2fb",
   "metadata": {},
   "source": [
    "2 sigma = (1-.954)/2 = 0.023"
   ]
  },
  {
   "cell_type": "code",
   "execution_count": 11,
   "id": "c6b03066-f71f-4c60-ac10-a59bba63d89e",
   "metadata": {},
   "outputs": [
    {
     "data": {
      "text/plain": [
       "-1.9953933101678247"
      ]
     },
     "execution_count": 11,
     "metadata": {},
     "output_type": "execute_result"
    }
   ],
   "source": [
    "stats.norm.ppf(0.023)"
   ]
  },
  {
   "cell_type": "code",
   "execution_count": 12,
   "id": "ed3eb1d9-d622-4023-b618-1cadef868d10",
   "metadata": {},
   "outputs": [
    {
     "data": {
      "text/plain": [
       "1.9953933101678245"
      ]
     },
     "execution_count": 12,
     "metadata": {},
     "output_type": "execute_result"
    }
   ],
   "source": [
    "stats.norm.ppf(.977)"
   ]
  },
  {
   "cell_type": "markdown",
   "id": "29bf0f0e-6e3e-473d-86c3-df3d7403af06",
   "metadata": {},
   "source": [
    "## D)"
   ]
  },
  {
   "cell_type": "markdown",
   "id": "9c65b0c3-76fc-4491-a7dc-1b17dc43fb94",
   "metadata": {},
   "source": [
    "**If a minus sign appears, think about it and explain the meaning.**"
   ]
  },
  {
   "cell_type": "markdown",
   "id": "e6339fc8-4ecf-43af-9109-d4fb84fc0438",
   "metadata": {},
   "source": [
    "The minus sign, demonstrated above when inputting e.g. probabilities 0.977 and 0.023=1-0.977, arrives from how the number of sigmas we are away from the center of the normal distribution. Since there is a 50% chance of having a higher value than the center of the distribution and 50% chance of being lower than the distribution, the center of the distribution is situated at 0 sigma. Any measured value to the right of the center would thus be a positive number of sigmas away from the center of the distribution, and naturally if the measured value is to the left of the central distribution, it would be a negative number of sigmas away from the center of the distribution. Thus, the value of sigmas are thus symmetric about the distribution's midpoint but with opposite signs depending on whether or not the measured value is to the left or right of the center."
   ]
  },
  {
   "cell_type": "markdown",
   "id": "b1f88a76-4b58-4ce7-943f-3f21fcd0521f",
   "metadata": {},
   "source": [
    "## 2."
   ]
  },
  {
   "cell_type": "markdown",
   "id": "b9f0947d-25e8-4f36-8aea-5ca5a0deaa6b",
   "metadata": {},
   "source": [
    "**Now let's explore some other continuous analytic distributions. Following the pattern from your first HW assigment, make both the analytic pdf() and a realization with ~100k samples using a built-in distribution; but this time don't use the Gaussian. Choose one of the following distributions: Rayleigh; Lognormal; Chi-Squared or Gamma; Exponential. You and your partner should choose different distributions.**"
   ]
  },
  {
   "cell_type": "markdown",
   "id": "838b120a-9858-45b1-895b-9257266dba40",
   "metadata": {},
   "source": [
    "## A)"
   ]
  },
  {
   "cell_type": "markdown",
   "id": "2307663d-032e-4261-9c51-af1b0cc5e0b5",
   "metadata": {},
   "source": [
    "**Read up on your distribution**"
   ]
  },
  {
   "cell_type": "markdown",
   "id": "64f64ab0-d66e-4686-a7ae-995343bcd2dc",
   "metadata": {},
   "source": [
    "I have read about the LogNormal distribution and will focus on this specific distribution for the following task."
   ]
  },
  {
   "cell_type": "markdown",
   "id": "75280a57-c5eb-4891-99e4-daa27a4ea95c",
   "metadata": {},
   "source": [
    "## B)"
   ]
  },
  {
   "cell_type": "markdown",
   "id": "45a59884-c134-49c9-888a-957f70ba99fe",
   "metadata": {},
   "source": [
    "**Make plots (tweaking distribution and plot parameters as needed)**"
   ]
  },
  {
   "cell_type": "markdown",
   "id": "cf6b69b4-b855-40a0-92a7-9497649e8fd9",
   "metadata": {},
   "source": [
    "Producing a LogNormal distribution using scipy"
   ]
  },
  {
   "cell_type": "code",
   "execution_count": 13,
   "id": "e2a53269-f582-4486-b90e-d53fb5e9d0f4",
   "metadata": {},
   "outputs": [],
   "source": [
    "s = 1\n",
    "d = stats.lognorm.rvs(s, size = 100000)"
   ]
  },
  {
   "cell_type": "code",
   "execution_count": 14,
   "id": "7a1350f9-c82e-483f-b4ff-1ffcfe7b886e",
   "metadata": {},
   "outputs": [
    {
     "data": {
      "image/png": "[encoded data removed]",
      "text/plain": [
       "<Figure size 1080x720 with 1 Axes>"
      ]
     },
     "metadata": {
      "needs_background": "light"
     },
     "output_type": "display_data"
    }
   ],
   "source": [
    "fig, ax = plt.subplots(1, 1)\n",
    "ax.hist(d, 50, density=True)\n",
    "plt.tick_params(labelsize = 24)\n",
    "plt.xlim([0,20])\n",
    "x = np.linspace(0,20,1000)\n",
    "ax.plot(x,stats.lognorm.pdf(x, s),linewidth = 8,alpha = 0.7)\n",
    "plt.show()"
   ]
  },
  {
   "cell_type": "markdown",
   "id": "1ab04c78-867d-4e87-8bed-55bdf0a3e24f",
   "metadata": {},
   "source": [
    "As we can see by comparing the plots above and below, changing the s parameter in the LogNormal distribution. This changes the \"shape parameter\" of the distribution.\n",
    "Note the change in the limits of x in the axes on the plot below."
   ]
  },
  {
   "cell_type": "code",
   "execution_count": 15,
   "id": "57cfa602-fdaf-4364-ae94-8e69d3503a81",
   "metadata": {},
   "outputs": [],
   "source": [
    "s = .5\n",
    "d = stats.lognorm.rvs(s, size = 100000)"
   ]
  },
  {
   "cell_type": "code",
   "execution_count": 16,
   "id": "a540b4b5-55fe-4df1-98a2-9511bd50cbea",
   "metadata": {},
   "outputs": [
    {
     "data": {
      "text/plain": [
       "array([0.9815567 , 0.58144801, 0.84805295, ..., 0.73534419, 0.55580797,\n",
       "       0.41051052])"
      ]
     },
     "execution_count": 16,
     "metadata": {},
     "output_type": "execute_result"
    }
   ],
   "source": [
    "d"
   ]
  },
  {
   "cell_type": "code",
   "execution_count": 17,
   "id": "9780ccbb-5ca0-4ea8-b90a-0551caf43ccf",
   "metadata": {},
   "outputs": [
    {
     "data": {
      "image/png": "[encoded data removed]",
      "text/plain": [
       "<Figure size 1080x720 with 1 Axes>"
      ]
     },
     "metadata": {
      "needs_background": "light"
     },
     "output_type": "display_data"
    }
   ],
   "source": [
    "fig, ax = plt.subplots(1, 1)\n",
    "ax.hist(d, 50, density=True)\n",
    "plt.tick_params(labelsize = 24)\n",
    "plt.xlim([0,5])\n",
    "x = np.linspace(0,5,1000)\n",
    "ax.plot(x,stats.lognorm.pdf(x, s),linewidth = 8,alpha = 0.7)\n",
    "plt.show()"
   ]
  },
  {
   "cell_type": "markdown",
   "id": "8632dfcb-6dea-44fd-8984-0cd448635d73",
   "metadata": {},
   "source": [
    "Out of curiosity, I tested to see what a chi squared distribution looks like."
   ]
  },
  {
   "cell_type": "code",
   "execution_count": 18,
   "id": "ee2c0f06-a495-483c-b867-b08bdd6d820f",
   "metadata": {},
   "outputs": [],
   "source": [
    "d = stats.chi2.rvs(df=50, size=100000)"
   ]
  },
  {
   "cell_type": "code",
   "execution_count": 19,
   "id": "afefacdd-c9b7-4a47-8c54-ab67fa6114ec",
   "metadata": {},
   "outputs": [
    {
     "data": {
      "text/plain": [
       "array([58.10408397, 40.25110481, 65.95232583, ..., 46.4626442 ,\n",
       "       50.99537057, 39.00248679])"
      ]
     },
     "execution_count": 19,
     "metadata": {},
     "output_type": "execute_result"
    }
   ],
   "source": [
    "d"
   ]
  },
  {
   "cell_type": "code",
   "execution_count": 20,
   "id": "2dcedf86-bb30-4edd-8ef9-12728fdc9861",
   "metadata": {},
   "outputs": [
    {
     "data": {
      "image/png": "[encoded data removed]",
      "text/plain": [
       "<Figure size 1080x720 with 1 Axes>"
      ]
     },
     "metadata": {
      "needs_background": "light"
     },
     "output_type": "display_data"
    }
   ],
   "source": [
    "fig, ax = plt.subplots(1, 1)\n",
    "ax.hist(d, 50, density=True)\n",
    "plt.tick_params(labelsize = 24)\n",
    "#plt.xlim([0,20])\n",
    "x = np.linspace(0,100,1000)\n",
    "ax.plot(x, stats.chi2.pdf(x, df=50),linewidth = 8,alpha = 0.7)\n",
    "plt.show()"
   ]
  },
  {
   "cell_type": "markdown",
   "id": "d230d0a3-7297-4823-99ec-f68de8111efb",
   "metadata": {},
   "source": [
    "## 3."
   ]
  },
  {
   "cell_type": "markdown",
   "id": "d209633b-66d6-4568-a52a-afdd97458f9b",
   "metadata": {},
   "source": [
    "**Imagine that your signal-free data follows the distribution you have chosen; and you have a measurement for which you need to determine the 'sigma'**"
   ]
  },
  {
   "cell_type": "markdown",
   "id": "1efa9cfe-1046-44cf-a1ca-9b65c1536177",
   "metadata": {},
   "source": [
    "## A)"
   ]
  },
  {
   "cell_type": "markdown",
   "id": "c48544d2-f70b-4eb4-89c4-01abf7ba1157",
   "metadata": {},
   "source": [
    "**Select a value for your hypothetical measurement**"
   ]
  },
  {
   "cell_type": "markdown",
   "id": "5c0ec5eb-e186-4c09-a5ba-cf46d9207d99",
   "metadata": {},
   "source": [
    "I will be using and referring to the LogNormal plot from above, but will redeclare the distribution below so it is contained inside Problem 3.\n",
    "I select the value 2.5"
   ]
  },
  {
   "cell_type": "markdown",
   "id": "a5824f8e-d7ee-4682-8269-b5ead1c39b9a",
   "metadata": {},
   "source": [
    "## B)"
   ]
  },
  {
   "cell_type": "markdown",
   "id": "8358479f-5f05-4d7d-a888-116b93c0f797",
   "metadata": {},
   "source": [
    "**Clearly state the statistical question you want to ask in words**"
   ]
  },
  {
   "cell_type": "markdown",
   "id": "507e6127-cd91-44de-93bb-b1a06efc3e57",
   "metadata": {},
   "source": [
    "Stating the statistical question in mind (to determine 'sigma'):\n",
    "What is the value of sigma corresponding to the probability integrated from a Normal distribution that would equal the probability of measuring the value 2.5 in a LogNormal distribution?\n",
    "\n",
    "What is the value of sigma that corresponds to the area under the curve (the integrated probability) of a Normal distribution that equals the area under the curve of a LogNormal distribution that is integrated from the center to the value 2.5?\n",
    "\n",
    "Basic question:\n",
    "What is the probability that detecting the value 2.5 is caused by noise in the experimental signal?"
   ]
  },
  {
   "cell_type": "markdown",
   "id": "7181da2c-148f-45c9-8e5d-abd8beda3bfb",
   "metadata": {},
   "source": [
    "## C)"
   ]
  },
  {
   "cell_type": "markdown",
   "id": "0eb2c206-d7fe-4f45-a9e4-3086000d4321",
   "metadata": {},
   "source": [
    "**Convert your word question into a mathematical integral**"
   ]
  },
  {
   "cell_type": "code",
   "execution_count": null,
   "id": "735a025c-6dd6-4a24-b3c3-a6cd1abef422",
   "metadata": {},
   "outputs": [],
   "source": []
  },
  {
   "cell_type": "markdown",
   "id": "151d4a52-d4fd-4f86-86c8-54156ddac09e",
   "metadata": {},
   "source": [
    "## D)"
   ]
  },
  {
   "cell_type": "markdown",
   "id": "edcc9cc5-aad1-420a-b12e-781065c70149",
   "metadata": {},
   "source": [
    "**Use the math to calculate the probability that the background produced the signal (Hint: you will want to use the statistics functions to do the integrals. .cdf() and .ppf() in scipy).**"
   ]
  },
  {
   "cell_type": "code",
   "execution_count": null,
   "id": "5cd6d3d8-9daf-4ad9-b48d-e11f8e51cdb7",
   "metadata": {},
   "outputs": [],
   "source": []
  },
  {
   "cell_type": "markdown",
   "id": "20777087-d1d6-43f1-854f-342d5ac86aa2",
   "metadata": {},
   "source": [
    "## E)"
   ]
  },
  {
   "cell_type": "markdown",
   "id": "dfb81261-7f38-4d9a-b573-ed9fd1787012",
   "metadata": {},
   "source": [
    "**Convert your probability into an equivalent 'sigma'**"
   ]
  },
  {
   "cell_type": "code",
   "execution_count": null,
   "id": "45d8bf80-d9b7-4751-b2d2-4bc796820c05",
   "metadata": {},
   "outputs": [],
   "source": []
  },
  {
   "cell_type": "markdown",
   "id": "da508bad-8fb8-4c09-947a-894291904fc2",
   "metadata": {},
   "source": [
    "## 4."
   ]
  },
  {
   "cell_type": "markdown",
   "id": "0db72e0c-11a9-411b-b5ce-af64349b4073",
   "metadata": {},
   "source": [
    "**Now explore a little bit. Try various hypothetical measurement values and see how the probabilities and 'sigmas' change. Discuss the patterns that you see.**"
   ]
  },
  {
   "cell_type": "code",
   "execution_count": null,
   "id": "4d9caa01-db20-492f-8561-488788e24d67",
   "metadata": {},
   "outputs": [],
   "source": []
  },
  {
   "cell_type": "markdown",
   "id": "dc7ef71f-c7ee-49dc-bdc3-dae215633c40",
   "metadata": {},
   "source": [
    "## Non-Continuous Distributions"
   ]
  },
  {
   "cell_type": "markdown",
   "id": "aaf00176-7390-4477-b998-b299bf512ba8",
   "metadata": {},
   "source": [
    "## 1."
   ]
  },
  {
   "cell_type": "code",
   "execution_count": 21,
   "id": "a46673d8-eb9c-4431-9862-2bea9fdb99ce",
   "metadata": {},
   "outputs": [],
   "source": [
    "mu = 5\n",
    "d = stats.poisson.rvs(mu)"
   ]
  },
  {
   "cell_type": "code",
   "execution_count": 22,
   "id": "9d9f1252-d05a-45b4-af78-6b3c5a77ad9a",
   "metadata": {},
   "outputs": [
    {
     "data": {
      "image/png": "[encoded data removed]",
      "text/plain": [
       "<Figure size 1080x720 with 1 Axes>"
      ]
     },
     "metadata": {
      "needs_background": "light"
     },
     "output_type": "display_data"
    }
   ],
   "source": [
    "fig, ax = plt.subplots(1, 1)\n",
    "ax.hist(d, 50, density=True)\n",
    "plt.tick_params(labelsize = 24)\n",
    "#plt.xlim([0,20])\n",
    "x = np.linspace(0,20,1000)\n",
    "ax.plot(x,stats.poisson.pmf(x, s),linewidth = 8,alpha = 0.7)\n",
    "plt.show()"
   ]
  },
  {
   "cell_type": "code",
   "execution_count": null,
   "id": "487ee243-581b-4028-9cf6-d10fe2db9e18",
   "metadata": {},
   "outputs": [],
   "source": []
  }
 ],
 "metadata": {
  "kernelspec": {
   "display_name": "Python 3",
   "language": "python",
   "name": "python3"
  },
  "language_info": {
   "codemirror_mode": {
    "name": "ipython",
    "version": 3
   },
   "file_extension": ".py",
   "mimetype": "text/x-python",
   "name": "python",
   "nbconvert_exporter": "python",
   "pygments_lexer": "ipython3",
   "version": "3.8.8"
  }
 },
 "nbformat": 4,
 "nbformat_minor": 5
}
