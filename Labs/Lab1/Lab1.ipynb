{
 "cells": [
  {
   "cell_type": "markdown",
   "id": "fc4d6758-a16e-489f-b2be-fbdd338b407a",
   "metadata": {},
   "source": [
    "# Lab 1"
   ]
  },
  {
   "cell_type": "code",
   "execution_count": 1,
   "id": "7d890d96-1bfa-4ec1-b388-743a1886526a",
   "metadata": {},
   "outputs": [],
   "source": [
    "import numpy as np\n",
    "import matplotlib\n",
    "import matplotlib.pyplot as plt\n",
    "import scipy\n",
    "from scipy import stats\n",
    "\n",
    "#this sets the size of the plot to something useful\n",
    "plt.rcParams[\"figure.figsize\"] = (15,10)"
   ]
  },
  {
   "cell_type": "markdown",
   "id": "84b05961-91d6-471d-94a9-85eea8c13162",
   "metadata": {},
   "source": [
    "## 1"
   ]
  },
  {
   "cell_type": "markdown",
   "id": "6f8493f6-a338-4113-bcd1-a51b377d327e",
   "metadata": {},
   "source": [
    "## A"
   ]
  },
  {
   "cell_type": "markdown",
   "id": "e41a8c8d-a2e0-410f-80eb-ca011d482119",
   "metadata": {},
   "source": [
    "We have researched the normal distribution about a point and corresponding z table values."
   ]
  },
  {
   "cell_type": "markdown",
   "id": "113c65f3-1ff6-4474-bfce-cb78dae750ca",
   "metadata": {},
   "source": [
    "## B"
   ]
  },
  {
   "cell_type": "raw",
   "id": "d82d9422-2d1f-4678-93f3-f18335cfcd98",
   "metadata": {},
   "source": [
    "We now move on to checking that we can easily calculate the integral under the distribution by using the error function, which in this case is called by using stats.norm.cdf(x) where x is the value of sigma (standard deviations) away from the center of the distribution."
   ]
  },
  {
   "cell_type": "code",
   "execution_count": 2,
   "id": "f50944cf-f36c-469e-80ad-8325dd46a8bb",
   "metadata": {},
   "outputs": [
    {
     "data": {
      "text/plain": [
       "0.5"
      ]
     },
     "execution_count": 2,
     "metadata": {},
     "output_type": "execute_result"
    }
   ],
   "source": [
    "stats.norm.cdf(0)"
   ]
  },
  {
   "cell_type": "raw",
   "id": "0a4074b0-1ec8-4946-ae5c-a9f30560bfbc",
   "metadata": {},
   "source": [
    "\t0.50000 (Checking with the Standard Normal table https://en.wikipedia.org/wiki/Standard_normal_table)"
   ]
  },
  {
   "cell_type": "code",
   "execution_count": 3,
   "id": "6afaf3b1-ee96-40c1-9256-ebba8cba7360",
   "metadata": {},
   "outputs": [
    {
     "data": {
      "text/plain": [
       "0.539827837277029"
      ]
     },
     "execution_count": 3,
     "metadata": {},
     "output_type": "execute_result"
    }
   ],
   "source": [
    "stats.norm.cdf(0.1)"
   ]
  },
  {
   "cell_type": "raw",
   "id": "8de1b01c-fb71-483d-acc4-33c12273ae52",
   "metadata": {},
   "source": [
    "\t0.53983"
   ]
  },
  {
   "cell_type": "code",
   "execution_count": 4,
   "id": "1c9bf470-23a5-43a4-96a7-6c7a41cc855f",
   "metadata": {},
   "outputs": [
    {
     "data": {
      "text/plain": [
       "0.460172162722971"
      ]
     },
     "execution_count": 4,
     "metadata": {},
     "output_type": "execute_result"
    }
   ],
   "source": [
    "stats.norm.cdf(-0.1)"
   ]
  },
  {
   "cell_type": "raw",
   "id": "be1c874f-0cfd-49b4-8911-2ba44e5a3dbb",
   "metadata": {},
   "source": [
    "\t0.46017"
   ]
  },
  {
   "cell_type": "code",
   "execution_count": 5,
   "id": "68ed66d7-cf40-46e3-9d6d-b5b98c3bf395",
   "metadata": {},
   "outputs": [
    {
     "data": {
      "text/plain": [
       "0.6914624612740131"
      ]
     },
     "execution_count": 5,
     "metadata": {},
     "output_type": "execute_result"
    }
   ],
   "source": [
    "stats.norm.cdf(0.5)"
   ]
  },
  {
   "cell_type": "raw",
   "id": "c9b7459b-2c29-45b8-93ad-038d3bf2113a",
   "metadata": {},
   "source": [
    "\t0.69146"
   ]
  },
  {
   "cell_type": "code",
   "execution_count": 6,
   "id": "0a208a6f-0d54-4698-9da7-8251594c60b7",
   "metadata": {},
   "outputs": [
    {
     "data": {
      "text/plain": [
       "0.3085375387259869"
      ]
     },
     "execution_count": 6,
     "metadata": {},
     "output_type": "execute_result"
    }
   ],
   "source": [
    "stats.norm.cdf(-0.5)"
   ]
  },
  {
   "cell_type": "raw",
   "id": "854f5884-5830-4b61-81bd-5cce9f4b4992",
   "metadata": {},
   "source": [
    "\t0.30854"
   ]
  },
  {
   "cell_type": "code",
   "execution_count": 7,
   "id": "e32420aa-e3a3-493a-aded-01fafd315ba6",
   "metadata": {},
   "outputs": [
    {
     "data": {
      "text/plain": [
       "0.1948945212518084"
      ]
     },
     "execution_count": 7,
     "metadata": {},
     "output_type": "execute_result"
    }
   ],
   "source": [
    "stats.norm.cdf(-0.86)"
   ]
  },
  {
   "cell_type": "raw",
   "id": "8691749a-bf54-4623-bb22-a46f6c1f7c9b",
   "metadata": {},
   "source": [
    "\t0.19489"
   ]
  },
  {
   "cell_type": "code",
   "execution_count": 8,
   "id": "7761f3be-defd-4818-87e1-1f8caf9520e1",
   "metadata": {},
   "outputs": [
    {
     "data": {
      "text/plain": [
       "0.8238144577547422"
      ]
     },
     "execution_count": 8,
     "metadata": {},
     "output_type": "execute_result"
    }
   ],
   "source": [
    "stats.norm.cdf(0.93)"
   ]
  },
  {
   "cell_type": "raw",
   "id": "4ebc6625-f9bc-428b-83ce-e18d17f81e09",
   "metadata": {},
   "source": [
    "\t0.82381"
   ]
  },
  {
   "cell_type": "raw",
   "id": "e2808400-5043-4efa-88cd-5583af1599e2",
   "metadata": {},
   "source": [
    "These values all seem to match the z table"
   ]
  },
  {
   "cell_type": "markdown",
   "id": "fcce512f-b0b1-4c65-8e93-cd2eda238c55",
   "metadata": {},
   "source": [
    "## C"
   ]
  },
  {
   "cell_type": "code",
   "execution_count": 9,
   "id": "c401c697-446b-4fa5-9016-9458e91b0e06",
   "metadata": {},
   "outputs": [],
   "source": [
    "## Here, we check that the inverse of the integral of the normal distribution.\n",
    "## Keep in mind the symmetric sigma along both wings of the distribution."
   ]
  },
  {
   "cell_type": "raw",
   "id": "2c76acdd-7a6a-495c-a1d1-1c787e3249f9",
   "metadata": {},
   "source": [
    "5 sigma = 2.87e-7"
   ]
  },
  {
   "cell_type": "code",
   "execution_count": 10,
   "id": "72d189ce-9719-43c3-bcdd-7604fd0d756f",
   "metadata": {},
   "outputs": [
    {
     "data": {
      "text/plain": [
       "-4.999765776842555"
      ]
     },
     "execution_count": 10,
     "metadata": {},
     "output_type": "execute_result"
    }
   ],
   "source": [
    "stats.norm.ppf(2.87e-7)"
   ]
  },
  {
   "cell_type": "raw",
   "id": "bea73075-16c6-420b-ac4e-a00acddb2a8f",
   "metadata": {},
   "source": [
    "1 sigma = (1-.68)/2 = (.32)/2 = .16"
   ]
  },
  {
   "cell_type": "code",
   "execution_count": 11,
   "id": "34613421-9451-4da3-b022-7023eaf7b15d",
   "metadata": {},
   "outputs": [
    {
     "data": {
      "text/plain": [
       "-0.994457883209753"
      ]
     },
     "execution_count": 11,
     "metadata": {},
     "output_type": "execute_result"
    }
   ],
   "source": [
    "stats.norm.ppf(.16)"
   ]
  },
  {
   "cell_type": "raw",
   "id": "82e2cf6c-df7d-402e-86e8-486272f1a2fb",
   "metadata": {},
   "source": [
    "2 sigma = (1-.954)/2 = 0.023"
   ]
  },
  {
   "cell_type": "code",
   "execution_count": 12,
   "id": "c6b03066-f71f-4c60-ac10-a59bba63d89e",
   "metadata": {},
   "outputs": [
    {
     "data": {
      "text/plain": [
       "-1.9953933101678247"
      ]
     },
     "execution_count": 12,
     "metadata": {},
     "output_type": "execute_result"
    }
   ],
   "source": [
    "stats.norm.ppf(0.023)"
   ]
  },
  {
   "cell_type": "code",
   "execution_count": 13,
   "id": "ed3eb1d9-d622-4023-b618-1cadef868d10",
   "metadata": {},
   "outputs": [
    {
     "data": {
      "text/plain": [
       "1.9953933101678245"
      ]
     },
     "execution_count": 13,
     "metadata": {},
     "output_type": "execute_result"
    }
   ],
   "source": [
    "stats.norm.ppf(.977)"
   ]
  },
  {
   "cell_type": "markdown",
   "id": "29bf0f0e-6e3e-473d-86c3-df3d7403af06",
   "metadata": {},
   "source": [
    "## D"
   ]
  },
  {
   "cell_type": "raw",
   "id": "7bdffc68-124d-4e25-99fc-8a5a31e70b0e",
   "metadata": {},
   "source": [
    "The minus sign, demonstrated above when inputting e.g. probabilities 0.977 and 0.023=1-0.977, arrives from how the number of sigmas we are away from the center of the normal distribution. Since there is a 50% chance of having a higher value than the center of the distribution and 50% chance of being lower than the distribution, the center of the distribution is situated at 0 sigma. Any measured value to the right of the center would thus be a positive number of sigmas away from the center of the distribution, and naturally if the measured value is to the left of the central distribution, it would be a negative number of sigmas away from the center of the distribution. Thus, the value of sigmas are thus symmetric about the distribution's midpoint but with opposite signs depending on whether or not the measured value is to the left or right of the center."
   ]
  },
  {
   "cell_type": "markdown",
   "id": "b1f88a76-4b58-4ce7-943f-3f21fcd0521f",
   "metadata": {},
   "source": [
    "## 2"
   ]
  },
  {
   "cell_type": "markdown",
   "id": "838b120a-9858-45b1-895b-9257266dba40",
   "metadata": {},
   "source": [
    "## A"
   ]
  },
  {
   "cell_type": "raw",
   "id": "dfa28835-44dc-4d35-b5d2-da6217079321",
   "metadata": {},
   "source": [
    "Read up on LogNormal distribution"
   ]
  },
  {
   "cell_type": "markdown",
   "id": "75280a57-c5eb-4891-99e4-daa27a4ea95c",
   "metadata": {},
   "source": [
    "## B"
   ]
  },
  {
   "cell_type": "raw",
   "id": "5b1255ba-5f3e-45ac-9aad-9b2b395ee8c0",
   "metadata": {},
   "source": [
    "Producing a LogNormal distribution using scipy"
   ]
  },
  {
   "cell_type": "code",
   "execution_count": 14,
   "id": "e2a53269-f582-4486-b90e-d53fb5e9d0f4",
   "metadata": {},
   "outputs": [],
   "source": [
    "s = 1\n",
    "d = stats.lognorm.rvs(s, size = 100000)"
   ]
  },
  {
   "cell_type": "code",
   "execution_count": 15,
   "id": "7a1350f9-c82e-483f-b4ff-1ffcfe7b886e",
   "metadata": {},
   "outputs": [
    {
     "data": {
      "image/png": "[encoded data removed]",
      "text/plain": [
       "<Figure size 1080x720 with 1 Axes>"
      ]
     },
     "metadata": {
      "needs_background": "light"
     },
     "output_type": "display_data"
    }
   ],
   "source": [
    "fig, ax = plt.subplots(1, 1)\n",
    "ax.hist(d, 50, density=True)\n",
    "plt.tick_params(labelsize = 24)\n",
    "plt.xlim([0,20])\n",
    "x = np.linspace(0,20,1000)\n",
    "ax.plot(x,stats.lognorm.pdf(x, s),linewidth = 8,alpha = 0.7)\n",
    "plt.show()"
   ]
  },
  {
   "cell_type": "raw",
   "id": "77000e0b-4cb9-465d-beb9-c2229cc02d84",
   "metadata": {},
   "source": [
    "Changing the s parameter in the LogNormal distribution. This changes the \"shape parameter\" of the distribution.\n",
    "Note the change in the limits of x in the axes on the plot below."
   ]
  },
  {
   "cell_type": "code",
   "execution_count": 16,
   "id": "57cfa602-fdaf-4364-ae94-8e69d3503a81",
   "metadata": {},
   "outputs": [],
   "source": [
    "s = .5\n",
    "d = stats.lognorm.rvs(s, size = 100000)"
   ]
  },
  {
   "cell_type": "code",
   "execution_count": 17,
   "id": "a540b4b5-55fe-4df1-98a2-9511bd50cbea",
   "metadata": {},
   "outputs": [
    {
     "data": {
      "text/plain": [
       "array([1.13513778, 0.94563642, 1.05122634, ..., 1.30689345, 0.49588314,\n",
       "       0.80755566])"
      ]
     },
     "execution_count": 17,
     "metadata": {},
     "output_type": "execute_result"
    }
   ],
   "source": [
    "d"
   ]
  },
  {
   "cell_type": "code",
   "execution_count": 18,
   "id": "9780ccbb-5ca0-4ea8-b90a-0551caf43ccf",
   "metadata": {},
   "outputs": [
    {
     "data": {
      "image/png": "[encoded data removed]",
      "text/plain": [
       "<Figure size 1080x720 with 1 Axes>"
      ]
     },
     "metadata": {
      "needs_background": "light"
     },
     "output_type": "display_data"
    }
   ],
   "source": [
    "fig, ax = plt.subplots(1, 1)\n",
    "ax.hist(d, 50, density=True)\n",
    "plt.tick_params(labelsize = 24)\n",
    "plt.xlim([0,5])\n",
    "x = np.linspace(0,5,1000)\n",
    "ax.plot(x,stats.lognorm.pdf(x, s),linewidth = 8,alpha = 0.7)\n",
    "plt.show()"
   ]
  },
  {
   "cell_type": "raw",
   "id": "d6fce7cc-8dd0-49ae-9d96-223951796bd6",
   "metadata": {},
   "source": [
    "Attempt using a chi squared distribution"
   ]
  },
  {
   "cell_type": "code",
   "execution_count": 19,
   "id": "ee2c0f06-a495-483c-b867-b08bdd6d820f",
   "metadata": {},
   "outputs": [],
   "source": [
    "d = stats.chi2.rvs(df=50, size=100000)"
   ]
  },
  {
   "cell_type": "code",
   "execution_count": 20,
   "id": "afefacdd-c9b7-4a47-8c54-ab67fa6114ec",
   "metadata": {},
   "outputs": [
    {
     "data": {
      "text/plain": [
       "array([47.23118517, 55.62997766, 50.08984624, ..., 36.69167486,\n",
       "       76.21479468, 32.46591473])"
      ]
     },
     "execution_count": 20,
     "metadata": {},
     "output_type": "execute_result"
    }
   ],
   "source": [
    "d"
   ]
  },
  {
   "cell_type": "code",
   "execution_count": 21,
   "id": "2dcedf86-bb30-4edd-8ef9-12728fdc9861",
   "metadata": {},
   "outputs": [
    {
     "data": {
      "image/png": "[encoded data removed]",
      "text/plain": [
       "<Figure size 1080x720 with 1 Axes>"
      ]
     },
     "metadata": {
      "needs_background": "light"
     },
     "output_type": "display_data"
    }
   ],
   "source": [
    "fig, ax = plt.subplots(1, 1)\n",
    "ax.hist(d, 50, density=True)\n",
    "plt.tick_params(labelsize = 24)\n",
    "#plt.xlim([0,20])\n",
    "x = np.linspace(0,100,1000)\n",
    "ax.plot(x, stats.chi2.pdf(x, df=50),linewidth = 8,alpha = 0.7)\n",
    "plt.show()"
   ]
  },
  {
   "cell_type": "markdown",
   "id": "d230d0a3-7297-4823-99ec-f68de8111efb",
   "metadata": {},
   "source": [
    "## 3"
   ]
  },
  {
   "cell_type": "markdown",
   "id": "1efa9cfe-1046-44cf-a1ca-9b65c1536177",
   "metadata": {},
   "source": [
    "## A"
   ]
  },
  {
   "cell_type": "raw",
   "id": "662d7ea9-f0e5-4096-b448-145e021ff7fb",
   "metadata": {},
   "source": [
    "I will be referring to the LogNormal plot from above, but will redeclare the distribution below so it is contained inside Problem 3.\n",
    "I select the value 2.5"
   ]
  },
  {
   "cell_type": "markdown",
   "id": "a5824f8e-d7ee-4682-8269-b5ead1c39b9a",
   "metadata": {},
   "source": [
    "## B"
   ]
  },
  {
   "cell_type": "raw",
   "id": "e55dcbec-e7d3-4306-b58c-3a8b87ee7900",
   "metadata": {},
   "source": [
    "Stating the statistical question in mind (to determine 'sigma'):\n",
    "What is the value of sigma corresponding to the probability integrated from a Normal distribution that would equal the probability of measuring the value 2.5 in a LogNormal distribution?\n",
    "\n",
    "What is the value of sigma that corresponds to the area under the curve (the integrated probability) of a Normal distribution that equals the area under the curve of a LogNormal distribution that is integrated from the center to the value 2.5?\n",
    "\n",
    "Basic question:\n",
    "What is the probability that detecting the value 2.5 is caused by noise in the experimental signal?"
   ]
  },
  {
   "cell_type": "markdown",
   "id": "7181da2c-148f-45c9-8e5d-abd8beda3bfb",
   "metadata": {},
   "source": [
    "## C"
   ]
  },
  {
   "cell_type": "code",
   "execution_count": null,
   "id": "735a025c-6dd6-4a24-b3c3-a6cd1abef422",
   "metadata": {},
   "outputs": [],
   "source": []
  },
  {
   "cell_type": "markdown",
   "id": "151d4a52-d4fd-4f86-86c8-54156ddac09e",
   "metadata": {},
   "source": [
    "## D"
   ]
  },
  {
   "cell_type": "code",
   "execution_count": null,
   "id": "5cd6d3d8-9daf-4ad9-b48d-e11f8e51cdb7",
   "metadata": {},
   "outputs": [],
   "source": []
  },
  {
   "cell_type": "markdown",
   "id": "da508bad-8fb8-4c09-947a-894291904fc2",
   "metadata": {},
   "source": [
    "## 4"
   ]
  },
  {
   "cell_type": "code",
   "execution_count": null,
   "id": "4d9caa01-db20-492f-8561-488788e24d67",
   "metadata": {},
   "outputs": [],
   "source": []
  },
  {
   "cell_type": "markdown",
   "id": "dc7ef71f-c7ee-49dc-bdc3-dae215633c40",
   "metadata": {},
   "source": [
    "## Non-Continuous Distribution"
   ]
  },
  {
   "cell_type": "markdown",
   "id": "aaf00176-7390-4477-b998-b299bf512ba8",
   "metadata": {},
   "source": [
    "## 1"
   ]
  },
  {
   "cell_type": "code",
   "execution_count": null,
   "id": "a46673d8-eb9c-4431-9862-2bea9fdb99ce",
   "metadata": {},
   "outputs": [],
   "source": []
  }
 ],
 "metadata": {
  "kernelspec": {
   "display_name": "Python 3",
   "language": "python",
   "name": "python3"
  },
  "language_info": {
   "codemirror_mode": {
    "name": "ipython",
    "version": 3
   },
   "file_extension": ".py",
   "mimetype": "text/x-python",
   "name": "python",
   "nbconvert_exporter": "python",
   "pygments_lexer": "ipython3",
   "version": "3.8.8"
  }
 },
 "nbformat": 4,
 "nbformat_minor": 5
}
