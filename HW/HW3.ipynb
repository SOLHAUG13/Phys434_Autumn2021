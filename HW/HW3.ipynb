{
 "cells": [
  {
   "cell_type": "markdown",
   "id": "4db5fd21-c30e-44e9-9c13-498922ddaf38",
   "metadata": {},
   "source": [
    "# HW3"
   ]
  },
  {
   "cell_type": "markdown",
   "id": "40654515-820b-41ad-b151-908eff9affd7",
   "metadata": {},
   "source": [
    "##### PHYS434 - Advanced Laboratory: Computational Data Analysis\n",
    "##### Professor: Miguel Morales\n",
    "<br>"
   ]
  },
  {
   "cell_type": "markdown",
   "id": "a7e1c6ca-914c-409c-8f27-dcaedb1263b1",
   "metadata": {},
   "source": [
    "##### Due date: 10/21/2021\n",
    "##### By Erik Solhaug\n",
    "<br>"
   ]
  },
  {
   "cell_type": "code",
   "execution_count": 1,
   "id": "7410b6bd-8607-4aa1-b9a6-00d5851ff1f5",
   "metadata": {},
   "outputs": [],
   "source": [
    "# Importing needed libraries\n",
    "import numpy as np\n",
    "import matplotlib\n",
    "import matplotlib.pyplot as plt\n",
    "import scipy\n",
    "from scipy import stats, signal\n",
    "\n",
    "# This sets the size of the plot to something useful\n",
    "plt.rcParams[\"figure.figsize\"] = (15,10)\n",
    "# This sets the fontsize of the x- and y-labels\n",
    "fsize = 30"
   ]
  },
  {
   "cell_type": "markdown",
   "id": "efac159b-8fd4-465e-9f97-ea7f3e719f4f",
   "metadata": {},
   "source": [
    "## Problem 1"
   ]
  },
  {
   "cell_type": "markdown",
   "id": "71605d64-0b3d-4ab7-915c-50c7bd224c9b",
   "metadata": {},
   "source": [
    "## A)"
   ]
  },
  {
   "cell_type": "markdown",
   "id": "71f8d23b-ac39-47c0-ac3a-e3303861fdfb",
   "metadata": {},
   "source": [
    "The first algorithm makes $ 3 + 5 = 8 $ mistakes while the second algorithm makes $ 1 + 11 = 12 $ mistakes, so the first algorithm makes the least mistakes."
   ]
  },
  {
   "cell_type": "markdown",
   "id": "a7c4e6a0-39bb-49cd-848e-87e3f709e90b",
   "metadata": {},
   "source": [
    "## B)"
   ]
  },
  {
   "cell_type": "markdown",
   "id": "0bcb3209-a880-49e6-8441-aa0df500b085",
   "metadata": {},
   "source": [
    "Since locking a person in for 30 extra seconds is not a big deal, then the algorithm that miscategorizes the least birds (as people and not birds) and thus sets less birds free, is the better algorithm for the zoo.\n",
    "\n",
    "This would be the second algorithm since it miscategorizes only $ \\frac{1}{47+1} = \\frac{1}{48} $ birds as people while the first miscategorizes $ \\frac{3}{45+3} = \\frac{3}{48} $ birds as people."
   ]
  },
  {
   "cell_type": "markdown",
   "id": "966081f6-7340-4d24-a926-09db659be055",
   "metadata": {},
   "source": [
    "## C)"
   ]
  },
  {
   "cell_type": "markdown",
   "id": "87864278-3738-4c35-a56a-47cd8da4c674",
   "metadata": {},
   "source": [
    "Instead of imagining there now being 99 birds and 1 person in the aviary (instead of the previous 48 and 52), we will expand our sample size in order to create a truth table consistent with there being 99% birds and 1% people.\n",
    "\n",
    "This yields the truth tables:"
   ]
  },
  {
   "cell_type": "code",
   "execution_count": 2,
   "id": "f6b57fa6-e809-4022-9143-7a325ef045b1",
   "metadata": {},
   "outputs": [
    {
     "data": {
      "text/plain": [
       "(92.8125, 6.1875)"
      ]
     },
     "execution_count": 2,
     "metadata": {},
     "output_type": "execute_result"
    }
   ],
   "source": [
    "birdfact = 99/48\n",
    "aa, ba = 45*birdfact, 3*birdfact\n",
    "aa, ba"
   ]
  },
  {
   "cell_type": "code",
   "execution_count": 3,
   "id": "272fb705-f6ef-445e-b566-26f0ac399b80",
   "metadata": {},
   "outputs": [
    {
     "data": {
      "text/plain": [
       "(0.09615384615384616, 0.9038461538461539)"
      ]
     },
     "execution_count": 3,
     "metadata": {},
     "output_type": "execute_result"
    }
   ],
   "source": [
    "personfact = 1/52\n",
    "ab, bb = 5*personfact, 47*personfact\n",
    "ab, bb"
   ]
  },
  {
   "cell_type": "code",
   "execution_count": 4,
   "id": "e819bb21-b70d-4eef-9d26-02ee4874d062",
   "metadata": {},
   "outputs": [
    {
     "data": {
      "text/plain": [
       "100.0"
      ]
     },
     "execution_count": 4,
     "metadata": {},
     "output_type": "execute_result"
    }
   ],
   "source": [
    "# If I have done this correctly the truth table values should add up to 100 (my total sample size):\n",
    "aa + ba + ab + bb"
   ]
  },
  {
   "cell_type": "markdown",
   "id": "923a42b7-4017-4d08-8e60-dcfe1663155b",
   "metadata": {},
   "source": [
    "|  | **True Bird** | **True Person** |\n",
    "| --- | --- | --- |\n",
    "| NN Bird | 92.8125 | 0.09615384615384616 |\n",
    "| NN Person | 6.1875 | 0.9038461538461539 |\n",
    "| Total | 99 | 1 |"
   ]
  },
  {
   "cell_type": "markdown",
   "id": "15bd790c-27d3-4eed-98e5-4977a848f5c2",
   "metadata": {},
   "source": [
    "We repeat the process for the second algorithm:"
   ]
  },
  {
   "cell_type": "code",
   "execution_count": 5,
   "id": "25197fe4-45e3-49d7-8f5f-87827d7d0855",
   "metadata": {},
   "outputs": [
    {
     "data": {
      "text/plain": [
       "(96.9375, 2.0625)"
      ]
     },
     "execution_count": 5,
     "metadata": {},
     "output_type": "execute_result"
    }
   ],
   "source": [
    "aa, ba = 47*birdfact, 1*birdfact\n",
    "aa, ba"
   ]
  },
  {
   "cell_type": "code",
   "execution_count": 6,
   "id": "52881ea2-b715-49e7-a240-d79646a07b13",
   "metadata": {},
   "outputs": [
    {
     "data": {
      "text/plain": [
       "(0.19230769230769232, 0.8076923076923077)"
      ]
     },
     "execution_count": 6,
     "metadata": {},
     "output_type": "execute_result"
    }
   ],
   "source": [
    "ab, bb = 10*personfact, 42*personfact\n",
    "ab, bb"
   ]
  },
  {
   "cell_type": "code",
   "execution_count": 7,
   "id": "aeb7b1cd-4680-4bdc-828c-8c456f12fadc",
   "metadata": {},
   "outputs": [
    {
     "data": {
      "text/plain": [
       "100.0"
      ]
     },
     "execution_count": 7,
     "metadata": {},
     "output_type": "execute_result"
    }
   ],
   "source": [
    "# If I have done this correctly the truth table values should add up to 100 (my total sample size):\n",
    "aa + ba + ab + bb"
   ]
  },
  {
   "cell_type": "markdown",
   "id": "39cc024b-8a61-4000-86e3-c479c15f1dbe",
   "metadata": {},
   "source": [
    "|  | **True Bird** | **True Person** |\n",
    "| --- | --- | --- |\n",
    "| NN Bird | 96.9375 | 0.19230769230769232 |\n",
    "| NN Person | 2.0625 | 0.8076923076923077 |\n",
    "| Total | 99 | 1 |"
   ]
  },
  {
   "cell_type": "markdown",
   "id": "affa838f-f845-4987-aef9-1291077f9346",
   "metadata": {},
   "source": [
    "## Problem 2"
   ]
  },
  {
   "cell_type": "markdown",
   "id": "3e28e1b5-691c-4130-bc31-d51016c0d8f5",
   "metadata": {},
   "source": [
    "### Example #1"
   ]
  },
  {
   "cell_type": "markdown",
   "id": "6e7d28cf-a6d0-47a3-b058-8c613a439b60",
   "metadata": {},
   "source": [
    "We find that the sum of Gaussian X and Gaussian Y is a Gaussian X+Y with:\n",
    "$$ \\mu_{X+Y} = \\mu_X + \\mu_Y $$\n",
    "and\n",
    "$$ \\sigma_{X+Y}^2 = \\sigma_X^2 + \\sigma_Y^2 $$"
   ]
  },
  {
   "cell_type": "markdown",
   "id": "4303fdcd-1dd1-47cb-a494-b92e7e57642e",
   "metadata": {},
   "source": [
    "### Example #2"
   ]
  },
  {
   "cell_type": "markdown",
   "id": "2c7aebe7-1c9c-4257-b91a-0fc770347b1d",
   "metadata": {},
   "source": [
    "Rayleigh, Gamma and Exponential distributions are related and complete a 'circle' of transformations."
   ]
  },
  {
   "cell_type": "markdown",
   "id": "700949e3-84f4-41bd-9155-47156575dea7",
   "metadata": {},
   "source": [
    "## A)"
   ]
  },
  {
   "cell_type": "markdown",
   "id": "09ae787b-884b-47fe-ae91-7b5755fea6de",
   "metadata": {},
   "source": [
    "Since an exponential distribution is given by:\n",
    "\n",
    "$$ \\lambda e^{-\\lambda x} $$\n",
    "\n",
    "If we add two equal exponential distributions together, it is a linear combination of the above expression. Specifically, we are adding **two** distributions together, so the new distribution becomes:\n",
    "\n",
    "$$ 2 \\lambda e^{-\\lambda x} $$"
   ]
  },
  {
   "cell_type": "markdown",
   "id": "e7016eea-6ab6-4521-a7c4-e8569852163d",
   "metadata": {},
   "source": [
    "We look this up in one of the diagrams from lecture and find that the Exponential Distribution $ X_i $ and the Erlang Distribution are related to each other by $ X_1 + ... X_n $. Since we produce a linear combination of exponential functions, we know that two equal exponential distributions summed together becomes an **Erlang Distribution**."
   ]
  },
  {
   "cell_type": "markdown",
   "id": "8fc21773-e5a0-456c-a44d-04954f60ca7e",
   "metadata": {},
   "source": [
    "## B)"
   ]
  },
  {
   "cell_type": "markdown",
   "id": "eaa9e99b-bff4-4ac8-9489-cec4e5dbe905",
   "metadata": {},
   "source": [
    "In this case, we are dividing a standard normal distribution (Gaussian with $ \\mu = 0, \\sigma = 1$) by another standard normal distribution - these are identical.\n",
    "\n",
    "We look up this up in one of the diagrams from the lecture and find that a Standard Normal Distribution $X_i$ is related to a Standard Cauchy Distribution by $ \\frac{X_1}{X_2} $. Thus, this is a **Standard Cauchy Distribution**."
   ]
  },
  {
   "cell_type": "markdown",
   "id": "3ec8627b-e0d3-4bed-94aa-f1073adf4b2c",
   "metadata": {},
   "source": [
    "## C)"
   ]
  },
  {
   "cell_type": "markdown",
   "id": "ae55125d-6d93-4266-96f9-a1cdb1e540a6",
   "metadata": {},
   "source": [
    "Now, for a 2D Gaussian with vectors $ X\\vec{i} + Y\\vec{j}$.If I measure the amplitude of this vector, what is its pdf?"
   ]
  },
  {
   "cell_type": "markdown",
   "id": "741b2c91-0be1-4aea-91e5-35a0f363da1a",
   "metadata": {},
   "source": [
    "The amplitude of this vector is:\n",
    "$$ \\sqrt{X^2 + Y^2} = \\sqrt{X_1^2 + X_2^2}$$\n",
    "\n",
    "And from Wikipedia (https://en.wikipedia.org/wiki/Rayleigh_distribution), we see that this amplitude relates the 2D Gaussian to the **Rayleigh distribution**. A Rayleigh with standard deviation $ \\sigma $ will be related to a normal distribution with mean $ \\mu = 0 $ and standard deviation $ \\sigma^2 $. \n",
    "\n",
    "Thus, the Gaussian and Rayleigh distributions below will be related in that if you square two Gaussian distributions with zero mean, add them and take the square root of this sum (essentially take the norm and find the radial vector of the 2D Gaussian), one would get a Rayleigh distribution - which in terms tells us something about the distribution across the two dimensional Gaussian per radius integrated over an angle from 0 to 2pi around the center of the 2D Gaussian distribution."
   ]
  },
  {
   "cell_type": "code",
   "execution_count": 8,
   "id": "4ad5de0d-cb90-4ba6-9683-15525eca45f5",
   "metadata": {},
   "outputs": [
    {
     "data": {
      "image/png": "[encoded data removed]",
      "text/plain": [
       "<Figure size 1080x720 with 1 Axes>"
      ]
     },
     "metadata": {
      "needs_background": "light"
     },
     "output_type": "display_data"
    }
   ],
   "source": [
    "sigma = 1\n",
    "mu = 0\n",
    "\n",
    "rayleigh = stats.rayleigh(loc = mu, scale = np.sqrt(sigma))\n",
    "gaussian = stats.norm(loc = mu, scale = sigma)\n",
    "\n",
    "x = np.linspace(-5, 5, 1000)\n",
    "gaussian_pdf = gaussian.pdf(x)\n",
    "\n",
    "fig, ax = plt.subplots(1, 1)\n",
    "plt.tick_params(labelsize = 20)\n",
    "ax.plot(x, gaussian_pdf, label = 'Gaussian Distribution', linewidth = 3)\n",
    "ax.plot(x, rayleigh.pdf(x), label = 'Associated Rayleigh Distribution', linewidth = 3)\n",
    "ax.set_xlabel('x', fontsize = fsize)\n",
    "ax.set_ylabel('Probability', fontsize = fsize)\n",
    "ax.set_title('Rayleigh and Gaussian Relation', fontsize = fsize, fontweight = 'bold')\n",
    "# ax.set_yscale('log')\n",
    "ax.legend()\n",
    "plt.show()"
   ]
  },
  {
   "cell_type": "code",
   "execution_count": null,
   "id": "62ab01a8-9ff5-4400-b4ee-8d5710e97dd7",
   "metadata": {},
   "outputs": [],
   "source": []
  }
 ],
 "metadata": {
  "kernelspec": {
   "display_name": "Python 3",
   "language": "python",
   "name": "python3"
  },
  "language_info": {
   "codemirror_mode": {
    "name": "ipython",
    "version": 3
   },
   "file_extension": ".py",
   "mimetype": "text/x-python",
   "name": "python",
   "nbconvert_exporter": "python",
   "pygments_lexer": "ipython3",
   "version": "3.8.8"
  }
 },
 "nbformat": 4,
 "nbformat_minor": 5
}
