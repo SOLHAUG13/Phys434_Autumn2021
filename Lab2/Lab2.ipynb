{
 "cells": [
  {
   "cell_type": "markdown",
   "id": "1f6ea8c7-8658-40a6-b1f1-43aebb4dfed4",
   "metadata": {},
   "source": [
    "# Lab 2 - Probability, Distributions, and Statistical Questions"
   ]
  },
  {
   "cell_type": "markdown",
   "id": "560209fb-157f-47dc-b26d-d21f46f9eebb",
   "metadata": {},
   "source": [
    "##### PHYS434 - Advanced Laboratory: Computational Data Analysis\n",
    "##### Professor: Miguel Morales\n",
    "<br>"
   ]
  },
  {
   "cell_type": "markdown",
   "id": "e19fec41-31fa-43d3-a5a0-ba26ef0a2aa9",
   "metadata": {},
   "source": [
    "##### Due date: 10/18/2021\n",
    "##### By Erik Solhaug\n",
    "<br>"
   ]
  },
  {
   "cell_type": "markdown",
   "id": "4374bfb3-2ab5-4bb7-a7e2-4c07ecdb51c1",
   "metadata": {},
   "source": [
    "In this lab, we will look at the use of convolutions and methods to convolve signals in usefuways on statistical distributions including both continuous and non-continuous distributions. We will also cover the use and conversion of probabilities to 'sigma'. "
   ]
  },
  {
   "cell_type": "code",
   "execution_count": 1,
   "id": "bd1d5cd0-3634-42b2-9fb1-528bd20ad9ca",
   "metadata": {},
   "outputs": [],
   "source": [
    "# Importing needed libraries\n",
    "import numpy as np\n",
    "import matplotlib\n",
    "import matplotlib.pyplot as plt\n",
    "import scipy\n",
    "from scipy import stats\n",
    "\n",
    "# This sets the size of the plot to something useful\n",
    "plt.rcParams[\"figure.figsize\"] = (15,10)\n",
    "# This sets the fontsize of the x- and y-labels\n",
    "fsize = 30"
   ]
  },
  {
   "cell_type": "markdown",
   "id": "c4791e02-3d73-499d-b8ff-31c0865418e3",
   "metadata": {},
   "source": [
    "## Problem 1"
   ]
  },
  {
   "cell_type": "markdown",
   "id": "d5dc3627-879b-4c7f-b0d4-e295cdeef618",
   "metadata": {},
   "source": [
    "**In lecture and homework we explored how the convolution can be used to calculate the probability of a sum or average. For this problem we are going to imagine that we are looking for gamma-ray sources (e.g. with the Fermi telescope). In this kind of telescope there is a background of cosmic-rays (electrons and protons, mostly) that provides a discrete noise term across the sky that precisely follows a Poisson distribution. To detect a gamma-ray source, you need to ask what is the probability that the cosmic-ray background would have given you a measurement as signal-like or more than the signal that you received.**\n",
    "\n",
    "**To set up the problem, assume in 1 day the average cosmic-ray background is some number X (pick someting btwn 0.5 and 10, with different values for you and your lab partner); and the average number of gamma-rays emitted by your hypothetical source is Y (pick something larger than X).**"
   ]
  },
  {
   "cell_type": "code",
   "execution_count": null,
   "id": "9c6f1126-aecd-4543-8322-9d44bcee47d5",
   "metadata": {},
   "outputs": [],
   "source": [
    "In this problem, we will imagine that we are observing gamma-ray sources with a telescope, and that much of the signal"
   ]
  },
  {
   "cell_type": "markdown",
   "id": "7a3713ae-8df4-4c37-94df-5df3177c6b2a",
   "metadata": {},
   "source": [
    "## A)"
   ]
  },
  {
   "cell_type": "markdown",
   "id": "affd239e-0699-43e3-9cdb-4c4b3bc50b7d",
   "metadata": {},
   "source": [
    "**Show how the probability distribution of the background changes as you integrate (sum) for more days.**"
   ]
  },
  {
   "cell_type": "code",
   "execution_count": null,
   "id": "cbf0f1d5-605c-4b8c-a97e-e7a726b3506a",
   "metadata": {},
   "outputs": [],
   "source": []
  },
  {
   "cell_type": "markdown",
   "id": "cab7fad4-2723-4d68-8712-e8f7916d2a17",
   "metadata": {},
   "source": [
    "## B)"
   ]
  },
  {
   "cell_type": "markdown",
   "id": "70693631-f236-4436-a21b-81e32fc3f9b9",
   "metadata": {},
   "source": [
    "**Show that after 5 days, the summed probability distribution is still a Poisson distribution. Explain why this makes sense from a mathematical and conceptual point of view.**"
   ]
  },
  {
   "cell_type": "markdown",
   "id": "7d4dc6fc-58a9-4b93-80b0-d79545a6fb91",
   "metadata": {},
   "source": [
    "## C)"
   ]
  },
  {
   "cell_type": "markdown",
   "id": "f23b1969-5c98-4f9b-823b-4d0cb55b7476",
   "metadata": {},
   "source": [
    "**Show how the probability distribution evolves as you average days. Calculate for many different ranges of days, and explore the shape of the distribution as the number of days becomes larger. Discuss this in relation to both B) and the central limit theoem.**"
   ]
  },
  {
   "cell_type": "markdown",
   "id": "7d9d4e11-04af-4549-aacb-e9edd4faa37f",
   "metadata": {},
   "source": [
    "## D)"
   ]
  },
  {
   "cell_type": "markdown",
   "id": "11f7e6dc-f60d-4b8c-b6f3-93c61897b79b",
   "metadata": {},
   "source": [
    "**Pick some number of days N, and assume you saw Y*N gamma rays from your source. Calculate the 'sigma' of your observation. [In reality the number of gamma-rays seen from a source will also fluctuate, but we're going to ignore that complication for a couple of labs.]**"
   ]
  },
  {
   "cell_type": "markdown",
   "id": "d67dd360-33e2-4aea-b8d0-cd994bdf5fcf",
   "metadata": {},
   "source": [
    "## Problem 2"
   ]
  },
  {
   "cell_type": "markdown",
   "id": "fa5e5366-298f-478e-ac16-f0ff0c083d28",
   "metadata": {},
   "source": [
    "**Pick a skewed continuous distribtuion, such as a Rayleigh, that describes your background over some observing interval.**"
   ]
  },
  {
   "cell_type": "markdown",
   "id": "56cdec77-9798-44a1-aa18-a15d0613261b",
   "metadata": {},
   "source": [
    "## A)"
   ]
  },
  {
   "cell_type": "markdown",
   "id": "a5ee1827-0368-43fc-98a8-2c494c02b7f9",
   "metadata": {},
   "source": [
    "**Show how the distribution changes as you average over more observing intervals.**"
   ]
  },
  {
   "cell_type": "markdown",
   "id": "30e2b2c6-e6af-492a-84cd-5f2212ce207f",
   "metadata": {},
   "source": [
    "## B)"
   ]
  },
  {
   "cell_type": "markdown",
   "id": "a71f2fee-03ee-42a6-b1e9-217de4fc833c",
   "metadata": {},
   "source": [
    "**Discuss how the shape changes. Does it approach a Gaussian distribution? If yes, after how many intervals?**"
   ]
  },
  {
   "cell_type": "markdown",
   "id": "71da7c13-e273-4c57-a34e-5ed582397833",
   "metadata": {},
   "source": [
    "## Problem 3"
   ]
  },
  {
   "cell_type": "markdown",
   "id": "c97ab3b5-b0e0-4f32-b0a3-857a86f27cf1",
   "metadata": {},
   "source": [
    "**The discovery of optical/infra-red counterparts of Neutron star mergers initially detected with gravity-waves is one of the great discoverys in the last few years (wikipedia, scientific paper), and has ushered in the age of \"multi-messenger astrophysics.\" The science that can be done by matching a gravity-wave signal (directly measures the mass of the neutron stars and their distance) with the optical emisson (redshift, nuclear astrophysics of the resulting explosion) is staggering. Lots of science from how the heaviest elements are formed to constraints on Dark Energy.**\n",
    "\n",
    "**We're going to explore one of the analysis questions that comes up when looking for the optical counterparts (a new optical source) of a gravity wave signal. For this problem let's assume that we are using an optical telescope with a thermal noise background from the CCD (dark current, particularly an issue with older CCDs and/or infra-red CCDs). After flat-fielding, the background appears as a zero-mean Gaussian with constant width over the image.**"
   ]
  },
  {
   "cell_type": "markdown",
   "id": "9989549e-0fde-4460-b4e5-73fe2cd49a7f",
   "metadata": {},
   "source": [
    "## Version 1"
   ]
  },
  {
   "cell_type": "markdown",
   "id": "4b186074-6585-4b84-b18f-117a813e52e9",
   "metadata": {},
   "source": [
    "**You have an alert from LIGO that is also seen in with the X-ray/ultra-violet satellite SWIFT. SWIFT gives you a very precise location, so you take an image of that part of the sky. But because of SWIFT's accuracy, you know which pixel in your image to look for a counterpart in.**"
   ]
  },
  {
   "cell_type": "markdown",
   "id": "9370d0da-fa67-4405-afc9-2f19c4b36f01",
   "metadata": {},
   "source": [
    "## A)"
   ]
  },
  {
   "cell_type": "markdown",
   "id": "38e7a435-5027-464b-89e9-323a73a5c6c0",
   "metadata": {},
   "source": [
    "**From looking at all the other pixels in your image, you can measure the width of the background Gaussian distribution X (pick something). Assuming you see a signal of strength Y (pick a floating-point number; optical CCDs are not sensitive enough to count photons so the readings are floating point brightnesses, not integer photons). Calculate the significance of your detection. Can you claim a discovery (traditionally 5-sigma or more)?**"
   ]
  },
  {
   "cell_type": "markdown",
   "id": "c5fbade4-654f-45e4-a92e-d8650db565f7",
   "metadata": {},
   "source": [
    "## Version 2"
   ]
  },
  {
   "cell_type": "markdown",
   "id": "eea62612-6975-47a6-b954-d123281a02ed",
   "metadata": {},
   "source": [
    "**You have an alert from LIGO, but no associated detection from SWIFT. This could be because it is a black hole-black hole merger, a black hole-neutron star merger (neither seem to emit X-rays or UV light), or it could because SWIFT was indisposed at the time (wrong side of the earth in its orbit). Whatever the cause, you know what region of the sky to look in, but not which pixel.**"
   ]
  },
  {
   "cell_type": "markdown",
   "id": "443f7d8b-7ec5-4b29-b65e-2c748556d0c2",
   "metadata": {},
   "source": [
    "## B)"
   ]
  },
  {
   "cell_type": "markdown",
   "id": "a2904567-00d5-4b02-b85e-79e6df754dc9",
   "metadata": {},
   "source": [
    "**If you have to look for a signal in 10k pixels, what is the probability distribution of your background? (Clearly state the statistical question, then turn that into math using your background distribution from part 1 of this problem.)**"
   ]
  },
  {
   "cell_type": "markdown",
   "id": "d9ba75e0-db6b-4007-93a2-224317a4c69d",
   "metadata": {},
   "source": [
    "## C)"
   ]
  },
  {
   "cell_type": "markdown",
   "id": "f1aa80cb-becd-44bf-ae95-918a22b286ea",
   "metadata": {},
   "source": [
    "**Taking your brightest candidate signal from the region (assume it has the same signal as in part 1), calculate the significance of your detection.**"
   ]
  },
  {
   "cell_type": "markdown",
   "id": "c36cbc6e-d65c-40dc-a223-24f709a90aa9",
   "metadata": {},
   "source": [
    "## Problem 4"
   ]
  },
  {
   "cell_type": "markdown",
   "id": "c07f525f-ce6c-4d92-a355-9f1112d1efa9",
   "metadata": {},
   "source": [
    "**The statistical issue we were exploring in the previous problem is called a trials factor (sometimes known as a look-elsewhere effect). This is an important effect, as if you search through a million locations, you would expect to se ~1 one in a million event. However, it is also often over estimated how big an impact this makes on the sensitivity of a search. So in this part of the lab we are going to invert the problem.**\n",
    "\n",
    "**Let us again assume we have a Gaussian background (same parameters as Problem 3).**"
   ]
  },
  {
   "cell_type": "markdown",
   "id": "abc113a2-9cba-4897-b24f-754f2be12c22",
   "metadata": {},
   "source": [
    "## A)"
   ]
  },
  {
   "cell_type": "markdown",
   "id": "4e060eb3-1baa-4c4e-8c19-73325e67383f",
   "metadata": {},
   "source": [
    "**Calculate the signal required for a 5-sigma detection in Version 1**"
   ]
  },
  {
   "cell_type": "markdown",
   "id": "db6a2a5c-683b-4cf4-8af8-5b88049796aa",
   "metadata": {},
   "source": [
    "## B)"
   ]
  },
  {
   "cell_type": "markdown",
   "id": "7db2de9b-a074-4b2c-be31-39f552a5b9c3",
   "metadata": {},
   "source": [
    "**Calculate the signal required for a 5-sigma detection in Version 2**"
   ]
  },
  {
   "cell_type": "markdown",
   "id": "46b4d8bb-bf86-4eb1-b909-2e8c50143814",
   "metadata": {},
   "source": [
    "## C)"
   ]
  },
  {
   "cell_type": "markdown",
   "id": "a0b6bf40-f31e-42b2-bf8f-711ae5e444a2",
   "metadata": {},
   "source": [
    "**Discuss how much brighter the signal must be for discoverey if you have a trials factor of 10k. Looking at your probability distributions, explain why the sensitivity penalty due to a trials factor is so low.**"
   ]
  },
  {
   "cell_type": "markdown",
   "id": "44774aeb-c5d1-40f9-9c90-776ace6e291e",
   "metadata": {},
   "source": [
    "## D)"
   ]
  },
  {
   "cell_type": "markdown",
   "id": "55a6d71f-81d3-4529-93b4-e08a6a9c89fa",
   "metadata": {},
   "source": [
    "**If you changed the trials factor significantly (orders of magnitude), how large is the effect on your 5-sigma sensitivity threshold?**"
   ]
  },
  {
   "cell_type": "markdown",
   "id": "b2da71bf-a4f7-4213-a335-0ff674494082",
   "metadata": {},
   "source": [
    "**Extra credit: If you had a different distribution shape (non-Gaussian), how would that affect the sensitivity penalty of many trials? Clearly explain.**"
   ]
  },
  {
   "cell_type": "code",
   "execution_count": null,
   "id": "6965bc9b-64a8-4028-877d-a81b7f3926e0",
   "metadata": {},
   "outputs": [],
   "source": []
  }
 ],
 "metadata": {
  "kernelspec": {
   "display_name": "Python 3",
   "language": "python",
   "name": "python3"
  },
  "language_info": {
   "codemirror_mode": {
    "name": "ipython",
    "version": 3
   },
   "file_extension": ".py",
   "mimetype": "text/x-python",
   "name": "python",
   "nbconvert_exporter": "python",
   "pygments_lexer": "ipython3",
   "version": "3.8.8"
  }
 },
 "nbformat": 4,
 "nbformat_minor": 5
}
