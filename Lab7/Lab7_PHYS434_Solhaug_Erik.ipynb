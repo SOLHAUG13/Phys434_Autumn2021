{
 "cells": [
  {
   "cell_type": "markdown",
   "id": "4426d447-fba3-4fbf-b89b-d90f0eda6fd0",
   "metadata": {},
   "source": [
    "# Lab 7 - Event Selection Optimalization"
   ]
  },
  {
   "cell_type": "markdown",
   "id": "78a5782b-119a-4b20-9503-39bb74cd91a2",
   "metadata": {},
   "source": [
    "##### PHYS434 - Advanced Laboratory: Computational Data Analysis\n",
    "##### Professor: Miguel Morales\n",
    "<br>"
   ]
  },
  {
   "cell_type": "markdown",
   "id": "7f91138f-3a84-455a-8f89-26fc66c51f0e",
   "metadata": {},
   "source": [
    "##### Due date: 12/6/2021\n",
    "##### By Erik Solhaug\n",
    "<br>"
   ]
  },
  {
   "cell_type": "markdown",
   "id": "8e5c7583-8e7d-4399-befa-5be528ba2416",
   "metadata": {},
   "source": [
    "In this lab, we will explore our data and apply confidence intervals.\n",
    "\n",
    "From the previous lab, we have the data presented below."
   ]
  },
  {
   "cell_type": "code",
   "execution_count": 1,
   "id": "71f4dac2-c54e-4401-adba-83a0103570cb",
   "metadata": {},
   "outputs": [],
   "source": [
    "%matplotlib inline\n",
    "import numpy as np\n",
    "import matplotlib\n",
    "import matplotlib.pyplot as plt\n",
    "import scipy\n",
    "from scipy import stats\n",
    "import h5py\n",
    "import pickle\n",
    "import math\n",
    "\n",
    "import pandas as pd\n",
    "\n",
    "#this sets the size of the plot to something useful\n",
    "plt.rcParams[\"figure.figsize\"] = (20,15)"
   ]
  },
  {
   "cell_type": "code",
   "execution_count": 2,
   "id": "81858dc1-399b-4742-bae6-40a812afaa85",
   "metadata": {},
   "outputs": [
    {
     "data": {
      "text/plain": [
       "'/home/jovyan/Phys434_Autumn2021/LHC_data/'"
      ]
     },
     "execution_count": 2,
     "metadata": {},
     "output_type": "execute_result"
    }
   ],
   "source": [
    "user_dir = '/home/jovyan/Phys434_Autumn2021/'\n",
    "data_dir = user_dir + 'LHC_data/'\n",
    "data_dir"
   ]
  },
  {
   "cell_type": "code",
   "execution_count": 3,
   "id": "21b54d73-79ff-40d1-8938-ce69aabfce9e",
   "metadata": {},
   "outputs": [],
   "source": [
    "with open(f'{data_dir}/higgs_100000_pt_250_500.pkl', 'rb') as f:\n",
    "    higgs = pickle.load(f)"
   ]
  },
  {
   "cell_type": "code",
   "execution_count": 4,
   "id": "e04bf124-cb56-405b-ae8f-3b47031dcaee",
   "metadata": {},
   "outputs": [],
   "source": [
    "with open(f'{data_dir}/qcd_100000_pt_250_500.pkl', 'rb') as f:\n",
    "    qcd = pickle.load(f)"
   ]
  }
 ],
 "metadata": {
  "kernelspec": {
   "display_name": "Python 3",
   "language": "python",
   "name": "python3"
  },
  "language_info": {
   "codemirror_mode": {
    "name": "ipython",
    "version": 3
   },
   "file_extension": ".py",
   "mimetype": "text/x-python",
   "name": "python",
   "nbconvert_exporter": "python",
   "pygments_lexer": "ipython3",
   "version": "3.8.8"
  }
 },
 "nbformat": 4,
 "nbformat_minor": 5
}
