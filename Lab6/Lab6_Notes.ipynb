{
 "cells": [
  {
   "cell_type": "markdown",
   "id": "ab4cb304-69ad-45a0-a9cd-4d7bfda2107e",
   "metadata": {},
   "source": [
    "# Lab6 Notes"
   ]
  },
  {
   "cell_type": "markdown",
   "id": "21548590-ce23-48ff-bd2a-baa0911061a2",
   "metadata": {},
   "source": [
    "/We have to use a different approach to find the true signal threshold. We will take slices with fairly small steps on the y-axis and with greater and greater strength (above the mean value) until we arrive at a probability equal to that of the probability of $1\\sigma$."
   ]
  },
  {
   "cell_type": "markdown",
   "id": "07b962aa-f109-42d3-909e-a2231117a5e8",
   "metadata": {},
   "source": [
    "Let's first look at the index which we found in c):"
   ]
  },
  {
   "cell_type": "code",
   "execution_count": null,
   "id": "38829099-ef3e-4220-bc63-d159c58102cd",
   "metadata": {},
   "outputs": [],
   "source": [
    "idx = np.argwhere(temp2 == slice_loc1)[0]\n",
    "norm_factor = 1/sum(Psd.T[slice_loc1])\n",
    "datacenters[idx:]\n",
    "\n",
    "plt.step(datacenters, Psd[:, idx]*norm_factor, label = '$P(d|s)$')"
   ]
  },
  {
   "cell_type": "code",
   "execution_count": null,
   "id": "231200d7-14a4-406c-ae70-4a463f526473",
   "metadata": {},
   "outputs": [],
   "source": [
    "stepsize = datacenters[1]-datacenters[0]\n",
    "ident = np.argwhere(datacenters < 200)\n",
    "idx1 = ident[0]\n",
    "idx1"
   ]
  },
  {
   "cell_type": "markdown",
   "id": "265d4299-996b-4236-b2fd-a98f11c5f293",
   "metadata": {},
   "source": [
    "We will thus do the integral for each slice from negative infinity up to \"idx1\"."
   ]
  },
  {
   "cell_type": "code",
   "execution_count": null,
   "id": "4b471498-dfd0-4057-a45b-294328c65025",
   "metadata": {},
   "outputs": [],
   "source": [
    "idx = np.argwhere(temp == slice_loc2)[0][0]\n",
    "idx"
   ]
  },
  {
   "cell_type": "markdown",
   "id": "d21ecd1c-de93-4b67-99d5-0d4fe0b67c25",
   "metadata": {},
   "source": [
    "We are going to add up the probability under our distribution from negative infinity up to this index for each horizontal slice moving to higher true signal strengths, and once we have approached the value equal to the probability of one sigma we know that this slice corresponds to the true signal."
   ]
  },
  {
   "cell_type": "code",
   "execution_count": null,
   "id": "9fdf2f71-3086-4104-b698-f5d9898ba916",
   "metadata": {},
   "outputs": [],
   "source": [
    "temp2"
   ]
  },
  {
   "cell_type": "code",
   "execution_count": null,
   "id": "d027f460-9ec8-44db-89d5-c38775dfe74f",
   "metadata": {},
   "outputs": [],
   "source": [
    "np.sum((Psd[:, 1]*norm_factor).flatten()[:idx])"
   ]
  },
  {
   "cell_type": "code",
   "execution_count": null,
   "id": "a07a07eb-a180-4620-840f-fc22a527869a",
   "metadata": {},
   "outputs": [],
   "source": [
    "for i in range(0, temp2.size):\n",
    "    Psd_array = (Psd[:, i]*norm_factor).flatten()\n",
    "    s = np.sum(Psd_array[:idx])\n",
    "    if (s < prob_1sigma): # If the sum (integral) is now just barely smaller than the probability of 1 sigma --> This is our value of the true signal\n",
    "        print(temp2[i]) # Prints the value of the true signal\n",
    "        break"
   ]
  },
  {
   "cell_type": "code",
   "execution_count": null,
   "id": "998d9097-3a7b-4062-b55c-7f8298ff98d7",
   "metadata": {},
   "outputs": [],
   "source": [
    "(Psd[:, idx]*norm_factor).flatten()"
   ]
  },
  {
   "cell_type": "markdown",
   "id": "dc7aa358-5e4d-451c-af6d-20b16f5acaeb",
   "metadata": {},
   "source": [
    "For the true signal threshold, we will need to add the values from positive infinity down to a value (on the x-axis in the above plot) until we get a sum equal to that of the probability of $1\\sigma$. That value will be our $1\\sigma$-threshold."
   ]
  },
  {
   "cell_type": "code",
   "execution_count": null,
   "id": "3919a09a-3029-4bdd-ae19-bcca467d552e",
   "metadata": {},
   "outputs": [],
   "source": [
    "prob_1sigma = stats.norm.sf(1)\n",
    "prob_1sigma"
   ]
  },
  {
   "cell_type": "code",
   "execution_count": null,
   "id": "aa38d6d0-a7ac-4e46-9aea-a2b3246758dc",
   "metadata": {},
   "outputs": [],
   "source": [
    "Psd[idx, :][0]*norm_factor"
   ]
  },
  {
   "cell_type": "code",
   "execution_count": null,
   "id": "99eaaac8-cdc3-479c-ba35-f65b703eda48",
   "metadata": {},
   "outputs": [],
   "source": [
    "(Psd[idx, :][0]*norm_factor).size, temp2.size # We can see that temp2 marks the edges of the bins (as we already know) since its size is the size of Psd+1"
   ]
  },
  {
   "cell_type": "code",
   "execution_count": null,
   "id": "6de1c21e-2e2d-43cc-9d2c-10ebd83cb769",
   "metadata": {},
   "outputs": [],
   "source": [
    "temp2"
   ]
  },
  {
   "cell_type": "code",
   "execution_count": null,
   "id": "56481737-2848-4568-8f92-a0bf9171cb0a",
   "metadata": {
    "scrolled": true,
    "tags": []
   },
   "outputs": [],
   "source": [
    "for i in range(0, (Psd[idx, :][0]*norm_factor).size):\n",
    "    Psd_array = (Psd[idx, :][0]*norm_factor)\n",
    "    s = 0\n",
    "    for item in Psd_array[i:]:\n",
    "        s = s+item\n",
    "    print(s)"
   ]
  },
  {
   "cell_type": "code",
   "execution_count": null,
   "id": "1e72cac2-a550-482e-bd4a-77fb26e8491c",
   "metadata": {},
   "outputs": [],
   "source": [
    "for i in np.arange((Psd[idx, :][0]*norm_factor).size-1, -1, -1): # This is a reversed np.arange(0, (Psd[idx, :][0]*norm_factor).size, 1)\n",
    "    Psd_array = (Psd[idx, :][0]*norm_factor)\n",
    "    s = 0\n",
    "    for item in Psd_array[i:]:\n",
    "        s = s+item\n",
    "    if s > prob_1sigma:\n",
    "        print('First index:', i, 'Second index:', i+1, s) # Printing the value that is the first sum greater than prob_1sigma\n",
    "        \n",
    "        s = 0\n",
    "        # Printing the value that is just below 1 sigma - this may be closer to the actual threshold, which we will see that it will be in this case\n",
    "        for item in Psd_array[i+1:]:\n",
    "            s = s+item\n",
    "        print('First index:', i+1, 'Second index:', i+2, s)\n",
    "        break"
   ]
  },
  {
   "cell_type": "markdown",
   "id": "544066b0-061c-4c22-8873-2c2316bac5d5",
   "metadata": {},
   "source": [
    "As we can see, the value 0.1385... is closest to $1\\sigma$. Therefore, we try to find the threshold corresponding to the bin with these values in temp2.\n",
    "\n",
    "We use these indices to get the threshold from the \"temp2\" array."
   ]
  },
  {
   "cell_type": "code",
   "execution_count": null,
   "id": "eccf1512-ebc8-4d6c-979c-162086014a00",
   "metadata": {},
   "outputs": [],
   "source": [
    "temp2[25], temp2[26]"
   ]
  },
  {
   "cell_type": "markdown",
   "id": "438d94cb-d661-42c1-a30a-1a2354e5819d",
   "metadata": {},
   "source": [
    "Therefore, we estimate our threshold to be **~12.7**."
   ]
  },
  {
   "cell_type": "code",
   "execution_count": null,
   "id": "9b41a570-85e2-4e03-8600-e7b06ab5a316",
   "metadata": {},
   "outputs": [],
   "source": []
  }
 ],
 "metadata": {
  "kernelspec": {
   "display_name": "Python 3",
   "language": "python",
   "name": "python3"
  },
  "language_info": {
   "codemirror_mode": {
    "name": "ipython",
    "version": 3
   },
   "file_extension": ".py",
   "mimetype": "text/x-python",
   "name": "python",
   "nbconvert_exporter": "python",
   "pygments_lexer": "ipython3",
   "version": "3.8.8"
  }
 },
 "nbformat": 4,
 "nbformat_minor": 5
}
